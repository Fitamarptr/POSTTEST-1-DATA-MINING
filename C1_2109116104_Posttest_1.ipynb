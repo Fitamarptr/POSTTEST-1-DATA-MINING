{
  "nbformat": 4,
  "nbformat_minor": 0,
  "metadata": {
    "colab": {
      "provenance": [],
      "include_colab_link": true
    },
    "kernelspec": {
      "name": "python3",
      "display_name": "Python 3"
    },
    "language_info": {
      "name": "python"
    }
  },
  "cells": [
    {
      "cell_type": "markdown",
      "metadata": {
        "id": "view-in-github",
        "colab_type": "text"
      },
      "source": [
        "<a href=\"https://colab.research.google.com/github/Fitamarptr/POSTTEST-1-DATA-MINING/blob/main/C1_2109116104_Posttest_1.ipynb\" target=\"_parent\"><img src=\"https://colab.research.google.com/assets/colab-badge.svg\" alt=\"Open In Colab\"/></a>"
      ]
    },
    {
      "cell_type": "markdown",
      "source": [
        "<h1>Posttest Praktikum Sistem Informasi </h1>\n",
        "\n",
        "NIM 2109116104\n",
        "\n",
        "NAMA FITAMAR INKA PUTRI\n",
        "\n",
        "> Kerjakanlah tugas berikut berdasarkan instruksi yang diberkan. Kumpulkanlah hasil posttest ini pada Github dengan mengumpulkan link repository kalian.\n",
        "\n",
        "Disini ada dua jenis tugas.\n",
        "\n",
        "1. Visualisasi\n",
        "2. Penerapan Algoritma Naive Bayes\n",
        "\n",
        "\n",
        "Ketentuan pengumpulan tugas :\n",
        "1. Kumpul Tugas ini dengan Format Kelas_NIM_Posttest 1.ipynb\n",
        "2. Kumpulkan dalam bentuk link repository github\n",
        "3. Berikan penjelasan untuk setiap blok kode dengan membuat text atau comment pada kodingan\n",
        "4. Untuk bagian penjelasan gausa terlalu panjang. \n",
        "singkat padat dan jelas\n",
        "\n",
        "\n"
      ],
      "metadata": {
        "id": "W-uS6_66tbij"
      }
    },
    {
      "cell_type": "markdown",
      "source": [
        "## Business Understanding & Data Understanding"
      ],
      "metadata": {
        "id": "m2edIZ4Rzj_Y"
      }
    },
    {
      "cell_type": "markdown",
      "source": [
        "Importlah pandas, seaborn, dan plotly\n",
        "\n",
        "Download dataset dari link ini [**Link Dataset**](https://github.com/fnikolas-r/Data-Mining-Course/blob/main/Pertemuan%202/ChurnBank.csv)\n",
        "\n",
        "\n",
        "\n",
        "\n",
        "Kemudian taruhlah dalam sebuah variabel bernama df\n",
        "\n",
        "\n",
        "*note: kalian dapat menambah blok yang ada*"
      ],
      "metadata": {
        "id": "wxyi84yY7Lla"
      }
    },
    {
      "cell_type": "code",
      "source": [
        "# Import library\n",
        "import pandas as pd\n",
        "import seaborn as sns\n",
        "import plotly.express as px"
      ],
      "metadata": {
        "id": "GuUU52vPurH9"
      },
      "execution_count": null,
      "outputs": []
    },
    {
      "cell_type": "code",
      "execution_count": null,
      "metadata": {
        "id": "gxbjtLI5s8pn"
      },
      "outputs": [],
      "source": [
        "# Buatlah datasetnya disini\n",
        "df = pd.read_csv(\"ChurnBank.csv\")"
      ]
    },
    {
      "cell_type": "code",
      "source": [
        "df"
      ],
      "metadata": {
        "colab": {
          "base_uri": "https://localhost:8080/",
          "height": 1000
        },
        "id": "pfwUNVe5vYse",
        "outputId": "44931dbb-abad-4025-f8b2-c6117012d977"
      },
      "execution_count": null,
      "outputs": [
        {
          "output_type": "execute_result",
          "data": {
            "text/plain": [
              "    Unnamed: 0  CLIENTNUM     Attrition_Flag  Customer_Age Gender  \\\n",
              "0         6036  720010608  Attrited Customer            37      M   \n",
              "1         6684  711323283  Attrited Customer            57      M   \n",
              "2         4272  794707083  Attrited Customer            50      M   \n",
              "3         9759  709657533  Attrited Customer            44      M   \n",
              "4         4740  716625033  Attrited Customer            32      F   \n",
              "5         9597  715076358  Attrited Customer            57      M   \n",
              "6         5009  804829533  Attrited Customer            59      M   \n",
              "7         8200  712144158  Attrited Customer            53      F   \n",
              "8         5016  795599883  Attrited Customer            57      F   \n",
              "9         8350  709222008  Attrited Customer            41      M   \n",
              "10        8139  809844108  Existing Customer            48      M   \n",
              "11         176  716264358  Existing Customer            53      M   \n",
              "12        8020  778163508  Existing Customer            37      F   \n",
              "13         357  711857733  Existing Customer            49      M   \n",
              "14        6562  720070383  Existing Customer            41      F   \n",
              "15        4563  809809008  Existing Customer            47      F   \n",
              "16       10084  718161708  Existing Customer            46      F   \n",
              "17        5725  771079833  Existing Customer            40      F   \n",
              "18        2587  711639708  Existing Customer            42      M   \n",
              "19        8226  713700258  Existing Customer            55      F   \n",
              "\n",
              "   Education_Level Marital_Status Income_Category Card_Category  Credit_Limit  \n",
              "0          Unknown         Single     $40K - $60K          Blue       10226.0  \n",
              "1       Uneducated        Married     $60K - $80K          Blue        2527.0  \n",
              "2          College         Single    $80K - $120K          Blue        3495.0  \n",
              "3      High School        Unknown         $120K +          Blue        7793.0  \n",
              "4         Graduate         Single  Less than $40K          Blue        2761.0  \n",
              "5    Post-Graduate        Unknown    $80K - $120K          Blue       23714.0  \n",
              "6      High School         Single     $60K - $80K          Blue       24621.0  \n",
              "7         Graduate         Single  Less than $40K          Blue        2370.0  \n",
              "8       Uneducated        Married         Unknown          Blue        2404.0  \n",
              "9          Unknown         Single    $80K - $120K          Blue        4742.0  \n",
              "10       Doctorate         Single     $60K - $80K          Blue        8086.0  \n",
              "11      Uneducated        Married    $80K - $120K          Blue       26792.0  \n",
              "12     High School        Married         Unknown          Blue        5245.0  \n",
              "13      Uneducated         Single     $60K - $80K          Blue       18584.0  \n",
              "14      Uneducated         Single         Unknown          Blue        2429.0  \n",
              "15        Graduate        Married  Less than $40K          Blue        3111.0  \n",
              "16        Graduate        Married  Less than $40K          Blue        7562.0  \n",
              "17     High School         Single  Less than $40K          Blue        1438.3  \n",
              "18        Graduate         Single     $60K - $80K          Blue        1438.3  \n",
              "19   Post-Graduate        Married         Unknown          Blue        2953.0  "
            ],
            "text/html": [
              "\n",
              "  <div id=\"df-ef082521-0dd0-48a5-a4ea-1f0042a769a8\">\n",
              "    <div class=\"colab-df-container\">\n",
              "      <div>\n",
              "<style scoped>\n",
              "    .dataframe tbody tr th:only-of-type {\n",
              "        vertical-align: middle;\n",
              "    }\n",
              "\n",
              "    .dataframe tbody tr th {\n",
              "        vertical-align: top;\n",
              "    }\n",
              "\n",
              "    .dataframe thead th {\n",
              "        text-align: right;\n",
              "    }\n",
              "</style>\n",
              "<table border=\"1\" class=\"dataframe\">\n",
              "  <thead>\n",
              "    <tr style=\"text-align: right;\">\n",
              "      <th></th>\n",
              "      <th>Unnamed: 0</th>\n",
              "      <th>CLIENTNUM</th>\n",
              "      <th>Attrition_Flag</th>\n",
              "      <th>Customer_Age</th>\n",
              "      <th>Gender</th>\n",
              "      <th>Education_Level</th>\n",
              "      <th>Marital_Status</th>\n",
              "      <th>Income_Category</th>\n",
              "      <th>Card_Category</th>\n",
              "      <th>Credit_Limit</th>\n",
              "    </tr>\n",
              "  </thead>\n",
              "  <tbody>\n",
              "    <tr>\n",
              "      <th>0</th>\n",
              "      <td>6036</td>\n",
              "      <td>720010608</td>\n",
              "      <td>Attrited Customer</td>\n",
              "      <td>37</td>\n",
              "      <td>M</td>\n",
              "      <td>Unknown</td>\n",
              "      <td>Single</td>\n",
              "      <td>$40K - $60K</td>\n",
              "      <td>Blue</td>\n",
              "      <td>10226.0</td>\n",
              "    </tr>\n",
              "    <tr>\n",
              "      <th>1</th>\n",
              "      <td>6684</td>\n",
              "      <td>711323283</td>\n",
              "      <td>Attrited Customer</td>\n",
              "      <td>57</td>\n",
              "      <td>M</td>\n",
              "      <td>Uneducated</td>\n",
              "      <td>Married</td>\n",
              "      <td>$60K - $80K</td>\n",
              "      <td>Blue</td>\n",
              "      <td>2527.0</td>\n",
              "    </tr>\n",
              "    <tr>\n",
              "      <th>2</th>\n",
              "      <td>4272</td>\n",
              "      <td>794707083</td>\n",
              "      <td>Attrited Customer</td>\n",
              "      <td>50</td>\n",
              "      <td>M</td>\n",
              "      <td>College</td>\n",
              "      <td>Single</td>\n",
              "      <td>$80K - $120K</td>\n",
              "      <td>Blue</td>\n",
              "      <td>3495.0</td>\n",
              "    </tr>\n",
              "    <tr>\n",
              "      <th>3</th>\n",
              "      <td>9759</td>\n",
              "      <td>709657533</td>\n",
              "      <td>Attrited Customer</td>\n",
              "      <td>44</td>\n",
              "      <td>M</td>\n",
              "      <td>High School</td>\n",
              "      <td>Unknown</td>\n",
              "      <td>$120K +</td>\n",
              "      <td>Blue</td>\n",
              "      <td>7793.0</td>\n",
              "    </tr>\n",
              "    <tr>\n",
              "      <th>4</th>\n",
              "      <td>4740</td>\n",
              "      <td>716625033</td>\n",
              "      <td>Attrited Customer</td>\n",
              "      <td>32</td>\n",
              "      <td>F</td>\n",
              "      <td>Graduate</td>\n",
              "      <td>Single</td>\n",
              "      <td>Less than $40K</td>\n",
              "      <td>Blue</td>\n",
              "      <td>2761.0</td>\n",
              "    </tr>\n",
              "    <tr>\n",
              "      <th>5</th>\n",
              "      <td>9597</td>\n",
              "      <td>715076358</td>\n",
              "      <td>Attrited Customer</td>\n",
              "      <td>57</td>\n",
              "      <td>M</td>\n",
              "      <td>Post-Graduate</td>\n",
              "      <td>Unknown</td>\n",
              "      <td>$80K - $120K</td>\n",
              "      <td>Blue</td>\n",
              "      <td>23714.0</td>\n",
              "    </tr>\n",
              "    <tr>\n",
              "      <th>6</th>\n",
              "      <td>5009</td>\n",
              "      <td>804829533</td>\n",
              "      <td>Attrited Customer</td>\n",
              "      <td>59</td>\n",
              "      <td>M</td>\n",
              "      <td>High School</td>\n",
              "      <td>Single</td>\n",
              "      <td>$60K - $80K</td>\n",
              "      <td>Blue</td>\n",
              "      <td>24621.0</td>\n",
              "    </tr>\n",
              "    <tr>\n",
              "      <th>7</th>\n",
              "      <td>8200</td>\n",
              "      <td>712144158</td>\n",
              "      <td>Attrited Customer</td>\n",
              "      <td>53</td>\n",
              "      <td>F</td>\n",
              "      <td>Graduate</td>\n",
              "      <td>Single</td>\n",
              "      <td>Less than $40K</td>\n",
              "      <td>Blue</td>\n",
              "      <td>2370.0</td>\n",
              "    </tr>\n",
              "    <tr>\n",
              "      <th>8</th>\n",
              "      <td>5016</td>\n",
              "      <td>795599883</td>\n",
              "      <td>Attrited Customer</td>\n",
              "      <td>57</td>\n",
              "      <td>F</td>\n",
              "      <td>Uneducated</td>\n",
              "      <td>Married</td>\n",
              "      <td>Unknown</td>\n",
              "      <td>Blue</td>\n",
              "      <td>2404.0</td>\n",
              "    </tr>\n",
              "    <tr>\n",
              "      <th>9</th>\n",
              "      <td>8350</td>\n",
              "      <td>709222008</td>\n",
              "      <td>Attrited Customer</td>\n",
              "      <td>41</td>\n",
              "      <td>M</td>\n",
              "      <td>Unknown</td>\n",
              "      <td>Single</td>\n",
              "      <td>$80K - $120K</td>\n",
              "      <td>Blue</td>\n",
              "      <td>4742.0</td>\n",
              "    </tr>\n",
              "    <tr>\n",
              "      <th>10</th>\n",
              "      <td>8139</td>\n",
              "      <td>809844108</td>\n",
              "      <td>Existing Customer</td>\n",
              "      <td>48</td>\n",
              "      <td>M</td>\n",
              "      <td>Doctorate</td>\n",
              "      <td>Single</td>\n",
              "      <td>$60K - $80K</td>\n",
              "      <td>Blue</td>\n",
              "      <td>8086.0</td>\n",
              "    </tr>\n",
              "    <tr>\n",
              "      <th>11</th>\n",
              "      <td>176</td>\n",
              "      <td>716264358</td>\n",
              "      <td>Existing Customer</td>\n",
              "      <td>53</td>\n",
              "      <td>M</td>\n",
              "      <td>Uneducated</td>\n",
              "      <td>Married</td>\n",
              "      <td>$80K - $120K</td>\n",
              "      <td>Blue</td>\n",
              "      <td>26792.0</td>\n",
              "    </tr>\n",
              "    <tr>\n",
              "      <th>12</th>\n",
              "      <td>8020</td>\n",
              "      <td>778163508</td>\n",
              "      <td>Existing Customer</td>\n",
              "      <td>37</td>\n",
              "      <td>F</td>\n",
              "      <td>High School</td>\n",
              "      <td>Married</td>\n",
              "      <td>Unknown</td>\n",
              "      <td>Blue</td>\n",
              "      <td>5245.0</td>\n",
              "    </tr>\n",
              "    <tr>\n",
              "      <th>13</th>\n",
              "      <td>357</td>\n",
              "      <td>711857733</td>\n",
              "      <td>Existing Customer</td>\n",
              "      <td>49</td>\n",
              "      <td>M</td>\n",
              "      <td>Uneducated</td>\n",
              "      <td>Single</td>\n",
              "      <td>$60K - $80K</td>\n",
              "      <td>Blue</td>\n",
              "      <td>18584.0</td>\n",
              "    </tr>\n",
              "    <tr>\n",
              "      <th>14</th>\n",
              "      <td>6562</td>\n",
              "      <td>720070383</td>\n",
              "      <td>Existing Customer</td>\n",
              "      <td>41</td>\n",
              "      <td>F</td>\n",
              "      <td>Uneducated</td>\n",
              "      <td>Single</td>\n",
              "      <td>Unknown</td>\n",
              "      <td>Blue</td>\n",
              "      <td>2429.0</td>\n",
              "    </tr>\n",
              "    <tr>\n",
              "      <th>15</th>\n",
              "      <td>4563</td>\n",
              "      <td>809809008</td>\n",
              "      <td>Existing Customer</td>\n",
              "      <td>47</td>\n",
              "      <td>F</td>\n",
              "      <td>Graduate</td>\n",
              "      <td>Married</td>\n",
              "      <td>Less than $40K</td>\n",
              "      <td>Blue</td>\n",
              "      <td>3111.0</td>\n",
              "    </tr>\n",
              "    <tr>\n",
              "      <th>16</th>\n",
              "      <td>10084</td>\n",
              "      <td>718161708</td>\n",
              "      <td>Existing Customer</td>\n",
              "      <td>46</td>\n",
              "      <td>F</td>\n",
              "      <td>Graduate</td>\n",
              "      <td>Married</td>\n",
              "      <td>Less than $40K</td>\n",
              "      <td>Blue</td>\n",
              "      <td>7562.0</td>\n",
              "    </tr>\n",
              "    <tr>\n",
              "      <th>17</th>\n",
              "      <td>5725</td>\n",
              "      <td>771079833</td>\n",
              "      <td>Existing Customer</td>\n",
              "      <td>40</td>\n",
              "      <td>F</td>\n",
              "      <td>High School</td>\n",
              "      <td>Single</td>\n",
              "      <td>Less than $40K</td>\n",
              "      <td>Blue</td>\n",
              "      <td>1438.3</td>\n",
              "    </tr>\n",
              "    <tr>\n",
              "      <th>18</th>\n",
              "      <td>2587</td>\n",
              "      <td>711639708</td>\n",
              "      <td>Existing Customer</td>\n",
              "      <td>42</td>\n",
              "      <td>M</td>\n",
              "      <td>Graduate</td>\n",
              "      <td>Single</td>\n",
              "      <td>$60K - $80K</td>\n",
              "      <td>Blue</td>\n",
              "      <td>1438.3</td>\n",
              "    </tr>\n",
              "    <tr>\n",
              "      <th>19</th>\n",
              "      <td>8226</td>\n",
              "      <td>713700258</td>\n",
              "      <td>Existing Customer</td>\n",
              "      <td>55</td>\n",
              "      <td>F</td>\n",
              "      <td>Post-Graduate</td>\n",
              "      <td>Married</td>\n",
              "      <td>Unknown</td>\n",
              "      <td>Blue</td>\n",
              "      <td>2953.0</td>\n",
              "    </tr>\n",
              "  </tbody>\n",
              "</table>\n",
              "</div>\n",
              "      <button class=\"colab-df-convert\" onclick=\"convertToInteractive('df-ef082521-0dd0-48a5-a4ea-1f0042a769a8')\"\n",
              "              title=\"Convert this dataframe to an interactive table.\"\n",
              "              style=\"display:none;\">\n",
              "        \n",
              "  <svg xmlns=\"http://www.w3.org/2000/svg\" height=\"24px\"viewBox=\"0 0 24 24\"\n",
              "       width=\"24px\">\n",
              "    <path d=\"M0 0h24v24H0V0z\" fill=\"none\"/>\n",
              "    <path d=\"M18.56 5.44l.94 2.06.94-2.06 2.06-.94-2.06-.94-.94-2.06-.94 2.06-2.06.94zm-11 1L8.5 8.5l.94-2.06 2.06-.94-2.06-.94L8.5 2.5l-.94 2.06-2.06.94zm10 10l.94 2.06.94-2.06 2.06-.94-2.06-.94-.94-2.06-.94 2.06-2.06.94z\"/><path d=\"M17.41 7.96l-1.37-1.37c-.4-.4-.92-.59-1.43-.59-.52 0-1.04.2-1.43.59L10.3 9.45l-7.72 7.72c-.78.78-.78 2.05 0 2.83L4 21.41c.39.39.9.59 1.41.59.51 0 1.02-.2 1.41-.59l7.78-7.78 2.81-2.81c.8-.78.8-2.07 0-2.86zM5.41 20L4 18.59l7.72-7.72 1.47 1.35L5.41 20z\"/>\n",
              "  </svg>\n",
              "      </button>\n",
              "      \n",
              "  <style>\n",
              "    .colab-df-container {\n",
              "      display:flex;\n",
              "      flex-wrap:wrap;\n",
              "      gap: 12px;\n",
              "    }\n",
              "\n",
              "    .colab-df-convert {\n",
              "      background-color: #E8F0FE;\n",
              "      border: none;\n",
              "      border-radius: 50%;\n",
              "      cursor: pointer;\n",
              "      display: none;\n",
              "      fill: #1967D2;\n",
              "      height: 32px;\n",
              "      padding: 0 0 0 0;\n",
              "      width: 32px;\n",
              "    }\n",
              "\n",
              "    .colab-df-convert:hover {\n",
              "      background-color: #E2EBFA;\n",
              "      box-shadow: 0px 1px 2px rgba(60, 64, 67, 0.3), 0px 1px 3px 1px rgba(60, 64, 67, 0.15);\n",
              "      fill: #174EA6;\n",
              "    }\n",
              "\n",
              "    [theme=dark] .colab-df-convert {\n",
              "      background-color: #3B4455;\n",
              "      fill: #D2E3FC;\n",
              "    }\n",
              "\n",
              "    [theme=dark] .colab-df-convert:hover {\n",
              "      background-color: #434B5C;\n",
              "      box-shadow: 0px 1px 3px 1px rgba(0, 0, 0, 0.15);\n",
              "      filter: drop-shadow(0px 1px 2px rgba(0, 0, 0, 0.3));\n",
              "      fill: #FFFFFF;\n",
              "    }\n",
              "  </style>\n",
              "\n",
              "      <script>\n",
              "        const buttonEl =\n",
              "          document.querySelector('#df-ef082521-0dd0-48a5-a4ea-1f0042a769a8 button.colab-df-convert');\n",
              "        buttonEl.style.display =\n",
              "          google.colab.kernel.accessAllowed ? 'block' : 'none';\n",
              "\n",
              "        async function convertToInteractive(key) {\n",
              "          const element = document.querySelector('#df-ef082521-0dd0-48a5-a4ea-1f0042a769a8');\n",
              "          const dataTable =\n",
              "            await google.colab.kernel.invokeFunction('convertToInteractive',\n",
              "                                                     [key], {});\n",
              "          if (!dataTable) return;\n",
              "\n",
              "          const docLinkHtml = 'Like what you see? Visit the ' +\n",
              "            '<a target=\"_blank\" href=https://colab.research.google.com/notebooks/data_table.ipynb>data table notebook</a>'\n",
              "            + ' to learn more about interactive tables.';\n",
              "          element.innerHTML = '';\n",
              "          dataTable['output_type'] = 'display_data';\n",
              "          await google.colab.output.renderOutput(dataTable, element);\n",
              "          const docLink = document.createElement('div');\n",
              "          docLink.innerHTML = docLinkHtml;\n",
              "          element.appendChild(docLink);\n",
              "        }\n",
              "      </script>\n",
              "    </div>\n",
              "  </div>\n",
              "  "
            ]
          },
          "metadata": {},
          "execution_count": 17
        }
      ]
    },
    {
      "cell_type": "markdown",
      "source": [
        "### Business Understanding\n",
        "\n",
        "- Dataset adalah kumpulan data atau informasi yang terdiri dari beberapa variabel atau fitur. Dataset sering digunakan dalam bidang ilmu komputer dan statistika untuk melakukan analisis data dan pembelajaran mesin (machine learning). Sebagai contoh, dataset dapat berupa kumpulan gambar, teks, suara, atau data numerik yang digunakan untuk melatih model pembelajaran mesin atau digunakan untuk menguji hipotesis dalam penelitian ilmiah.\n",
        "\n",
        "- FIIT Music Indonesia merupakan perusahaan saya yang bergerak di bidang  industri musik dimana memiliki tujuan untuk melakukan analisis pasar terhadap tren musik dan prefensi konsumen. Data yang dikumpulkan dapat berupa data tentang jumlah penjualan album atau lagu tertentu, preferensi genre musik yang sedang tren dan lin-lain.\n",
        "\n",
        "- FIIT Music Indonesia merupakan perusahaan saya yang bergerak di bidang industri musik dimana memiliki tujuan untuk mealukan klasifikasi pada data musik. Sebagai contoh, Naive Bayes dapat digunakan untuk memprediksi genre musik yang paling disukai oleh konsumen berdasarkan data yang sudah tersedia.\n"
      ],
      "metadata": {
        "id": "4zonMQ5M9OxL"
      }
    },
    {
      "cell_type": "markdown",
      "source": [
        "### Data Understanding"
      ],
      "metadata": {
        "id": "Uj2U1K8y-A2J"
      }
    },
    {
      "cell_type": "code",
      "source": [
        "# Dari dataset diatas buatlah  variabel yang berisi\n",
        "# df1 isinya dataset dengan label target AttiredCustomer\n",
        "# df2 dengan label bukan Attrired customer\n",
        "# df3 dengan tabel untuk usia dibawah 50 tahun\n",
        "# df4 untuk customer yang statusnya itu single\n",
        "\n",
        "df1 = df[df[\"Attrition_Flag\"] == \"Attrited Customer\"]\n",
        "print(df1)\n",
        "df2 = df[df[\"Attrition_Flag\"] != \"Attrited Customer\"]\n",
        "print(df2)\n",
        "df3 = df[df[\"Customer_Age\"] < 50]\n",
        "print(df3)\n",
        "df4 = df[df[\"Marital_Status\"] == \"Single\"]\n",
        "print(df4)\n",
        "\n"
      ],
      "metadata": {
        "id": "fOe_dNgC7ZVp",
        "colab": {
          "base_uri": "https://localhost:8080/"
        },
        "outputId": "f89fd09a-bc5d-474a-c3fa-c8ffdff312bd"
      },
      "execution_count": null,
      "outputs": [
        {
          "output_type": "stream",
          "name": "stdout",
          "text": [
            "   Unnamed: 0  CLIENTNUM     Attrition_Flag  Customer_Age Gender  \\\n",
            "0        6036  720010608  Attrited Customer            37      M   \n",
            "1        6684  711323283  Attrited Customer            57      M   \n",
            "2        4272  794707083  Attrited Customer            50      M   \n",
            "3        9759  709657533  Attrited Customer            44      M   \n",
            "4        4740  716625033  Attrited Customer            32      F   \n",
            "5        9597  715076358  Attrited Customer            57      M   \n",
            "6        5009  804829533  Attrited Customer            59      M   \n",
            "7        8200  712144158  Attrited Customer            53      F   \n",
            "8        5016  795599883  Attrited Customer            57      F   \n",
            "9        8350  709222008  Attrited Customer            41      M   \n",
            "\n",
            "  Education_Level Marital_Status Income_Category Card_Category  Credit_Limit  \n",
            "0         Unknown         Single     $40K - $60K          Blue       10226.0  \n",
            "1      Uneducated        Married     $60K - $80K          Blue        2527.0  \n",
            "2         College         Single    $80K - $120K          Blue        3495.0  \n",
            "3     High School        Unknown         $120K +          Blue        7793.0  \n",
            "4        Graduate         Single  Less than $40K          Blue        2761.0  \n",
            "5   Post-Graduate        Unknown    $80K - $120K          Blue       23714.0  \n",
            "6     High School         Single     $60K - $80K          Blue       24621.0  \n",
            "7        Graduate         Single  Less than $40K          Blue        2370.0  \n",
            "8      Uneducated        Married         Unknown          Blue        2404.0  \n",
            "9         Unknown         Single    $80K - $120K          Blue        4742.0  \n",
            "    Unnamed: 0  CLIENTNUM     Attrition_Flag  Customer_Age Gender  \\\n",
            "10        8139  809844108  Existing Customer            48      M   \n",
            "11         176  716264358  Existing Customer            53      M   \n",
            "12        8020  778163508  Existing Customer            37      F   \n",
            "13         357  711857733  Existing Customer            49      M   \n",
            "14        6562  720070383  Existing Customer            41      F   \n",
            "15        4563  809809008  Existing Customer            47      F   \n",
            "16       10084  718161708  Existing Customer            46      F   \n",
            "17        5725  771079833  Existing Customer            40      F   \n",
            "18        2587  711639708  Existing Customer            42      M   \n",
            "19        8226  713700258  Existing Customer            55      F   \n",
            "\n",
            "   Education_Level Marital_Status Income_Category Card_Category  Credit_Limit  \n",
            "10       Doctorate         Single     $60K - $80K          Blue        8086.0  \n",
            "11      Uneducated        Married    $80K - $120K          Blue       26792.0  \n",
            "12     High School        Married         Unknown          Blue        5245.0  \n",
            "13      Uneducated         Single     $60K - $80K          Blue       18584.0  \n",
            "14      Uneducated         Single         Unknown          Blue        2429.0  \n",
            "15        Graduate        Married  Less than $40K          Blue        3111.0  \n",
            "16        Graduate        Married  Less than $40K          Blue        7562.0  \n",
            "17     High School         Single  Less than $40K          Blue        1438.3  \n",
            "18        Graduate         Single     $60K - $80K          Blue        1438.3  \n",
            "19   Post-Graduate        Married         Unknown          Blue        2953.0  \n",
            "    Unnamed: 0  CLIENTNUM     Attrition_Flag  Customer_Age Gender  \\\n",
            "0         6036  720010608  Attrited Customer            37      M   \n",
            "3         9759  709657533  Attrited Customer            44      M   \n",
            "4         4740  716625033  Attrited Customer            32      F   \n",
            "9         8350  709222008  Attrited Customer            41      M   \n",
            "10        8139  809844108  Existing Customer            48      M   \n",
            "12        8020  778163508  Existing Customer            37      F   \n",
            "13         357  711857733  Existing Customer            49      M   \n",
            "14        6562  720070383  Existing Customer            41      F   \n",
            "15        4563  809809008  Existing Customer            47      F   \n",
            "16       10084  718161708  Existing Customer            46      F   \n",
            "17        5725  771079833  Existing Customer            40      F   \n",
            "18        2587  711639708  Existing Customer            42      M   \n",
            "\n",
            "   Education_Level Marital_Status Income_Category Card_Category  Credit_Limit  \n",
            "0          Unknown         Single     $40K - $60K          Blue       10226.0  \n",
            "3      High School        Unknown         $120K +          Blue        7793.0  \n",
            "4         Graduate         Single  Less than $40K          Blue        2761.0  \n",
            "9          Unknown         Single    $80K - $120K          Blue        4742.0  \n",
            "10       Doctorate         Single     $60K - $80K          Blue        8086.0  \n",
            "12     High School        Married         Unknown          Blue        5245.0  \n",
            "13      Uneducated         Single     $60K - $80K          Blue       18584.0  \n",
            "14      Uneducated         Single         Unknown          Blue        2429.0  \n",
            "15        Graduate        Married  Less than $40K          Blue        3111.0  \n",
            "16        Graduate        Married  Less than $40K          Blue        7562.0  \n",
            "17     High School         Single  Less than $40K          Blue        1438.3  \n",
            "18        Graduate         Single     $60K - $80K          Blue        1438.3  \n",
            "    Unnamed: 0  CLIENTNUM     Attrition_Flag  Customer_Age Gender  \\\n",
            "0         6036  720010608  Attrited Customer            37      M   \n",
            "2         4272  794707083  Attrited Customer            50      M   \n",
            "4         4740  716625033  Attrited Customer            32      F   \n",
            "6         5009  804829533  Attrited Customer            59      M   \n",
            "7         8200  712144158  Attrited Customer            53      F   \n",
            "9         8350  709222008  Attrited Customer            41      M   \n",
            "10        8139  809844108  Existing Customer            48      M   \n",
            "13         357  711857733  Existing Customer            49      M   \n",
            "14        6562  720070383  Existing Customer            41      F   \n",
            "17        5725  771079833  Existing Customer            40      F   \n",
            "18        2587  711639708  Existing Customer            42      M   \n",
            "\n",
            "   Education_Level Marital_Status Income_Category Card_Category  Credit_Limit  \n",
            "0          Unknown         Single     $40K - $60K          Blue       10226.0  \n",
            "2          College         Single    $80K - $120K          Blue        3495.0  \n",
            "4         Graduate         Single  Less than $40K          Blue        2761.0  \n",
            "6      High School         Single     $60K - $80K          Blue       24621.0  \n",
            "7         Graduate         Single  Less than $40K          Blue        2370.0  \n",
            "9          Unknown         Single    $80K - $120K          Blue        4742.0  \n",
            "10       Doctorate         Single     $60K - $80K          Blue        8086.0  \n",
            "13      Uneducated         Single     $60K - $80K          Blue       18584.0  \n",
            "14      Uneducated         Single         Unknown          Blue        2429.0  \n",
            "17     High School         Single  Less than $40K          Blue        1438.3  \n",
            "18        Graduate         Single     $60K - $80K          Blue        1438.3  \n"
          ]
        }
      ]
    },
    {
      "cell_type": "code",
      "source": [
        "# Tampilkan info dataset (df.info()) dan berikan penjelasannya dalam bentuk teks atau comment\n",
        "df.info() # Kode ini berfungsi untuk menampilkan struktur tabel dataset "
      ],
      "metadata": {
        "id": "vm89zlTTOl4D",
        "colab": {
          "base_uri": "https://localhost:8080/"
        },
        "outputId": "403df608-ea38-446f-bc95-9470aac0540e"
      },
      "execution_count": null,
      "outputs": [
        {
          "output_type": "stream",
          "name": "stdout",
          "text": [
            "<class 'pandas.core.frame.DataFrame'>\n",
            "RangeIndex: 20 entries, 0 to 19\n",
            "Data columns (total 10 columns):\n",
            " #   Column           Non-Null Count  Dtype  \n",
            "---  ------           --------------  -----  \n",
            " 0   Unnamed: 0       20 non-null     int64  \n",
            " 1   CLIENTNUM        20 non-null     int64  \n",
            " 2   Attrition_Flag   20 non-null     object \n",
            " 3   Customer_Age     20 non-null     int64  \n",
            " 4   Gender           20 non-null     object \n",
            " 5   Education_Level  20 non-null     object \n",
            " 6   Marital_Status   20 non-null     object \n",
            " 7   Income_Category  20 non-null     object \n",
            " 8   Card_Category    20 non-null     object \n",
            " 9   Credit_Limit     20 non-null     float64\n",
            "dtypes: float64(1), int64(3), object(6)\n",
            "memory usage: 1.7+ KB\n"
          ]
        }
      ]
    },
    {
      "cell_type": "code",
      "source": [
        "#@title Opsional (nilai plus)\n",
        "\n",
        "# Tampilkan nilai rata-rata, min,max, dan standar deviasi  untuk setiap kolom bertipe angka"
      ],
      "metadata": {
        "id": "Gk-aiwdCO3Tw"
      },
      "execution_count": null,
      "outputs": []
    },
    {
      "cell_type": "code",
      "source": [
        "df.describe(include= \"all\")"
      ],
      "metadata": {
        "colab": {
          "base_uri": "https://localhost:8080/",
          "height": 476
        },
        "id": "lp-E5u6z02ky",
        "outputId": "6a61efc2-0c4d-4d9e-e8d8-259a2f6cb000"
      },
      "execution_count": null,
      "outputs": [
        {
          "output_type": "execute_result",
          "data": {
            "text/plain": [
              "          Unnamed: 0     CLIENTNUM     Attrition_Flag  Customer_Age Gender  \\\n",
              "count      20.000000  2.000000e+01                 20     20.000000     20   \n",
              "unique           NaN           NaN                  2           NaN      2   \n",
              "top              NaN           NaN  Attrited Customer           NaN      M   \n",
              "freq             NaN           NaN                 10           NaN     11   \n",
              "mean     6105.100000  7.424893e+08                NaN     47.250000    NaN   \n",
              "std      2850.304026  4.045524e+07                NaN      7.859791    NaN   \n",
              "min       176.000000  7.092220e+08                NaN     32.000000    NaN   \n",
              "25%      4695.750000  7.120726e+08                NaN     41.000000    NaN   \n",
              "50%      6299.000000  7.173934e+08                NaN     47.500000    NaN   \n",
              "75%      8206.500000  7.822994e+08                NaN     53.500000    NaN   \n",
              "max     10084.000000  8.098441e+08                NaN     59.000000    NaN   \n",
              "\n",
              "       Education_Level Marital_Status Income_Category Card_Category  \\\n",
              "count               20             20              20            20   \n",
              "unique               7              3               6             1   \n",
              "top         Uneducated         Single     $60K - $80K          Blue   \n",
              "freq                 5             11               5            20   \n",
              "mean               NaN            NaN             NaN           NaN   \n",
              "std                NaN            NaN             NaN           NaN   \n",
              "min                NaN            NaN             NaN           NaN   \n",
              "25%                NaN            NaN             NaN           NaN   \n",
              "50%                NaN            NaN             NaN           NaN   \n",
              "75%                NaN            NaN             NaN           NaN   \n",
              "max                NaN            NaN             NaN           NaN   \n",
              "\n",
              "        Credit_Limit  \n",
              "count      20.000000  \n",
              "unique           NaN  \n",
              "top              NaN  \n",
              "freq             NaN  \n",
              "mean     8114.580000  \n",
              "std      8331.036819  \n",
              "min      1438.300000  \n",
              "25%      2502.500000  \n",
              "50%      4118.500000  \n",
              "75%      8621.000000  \n",
              "max     26792.000000  "
            ],
            "text/html": [
              "\n",
              "  <div id=\"df-a17e7385-cd50-4aeb-91c5-a95ab3e50247\">\n",
              "    <div class=\"colab-df-container\">\n",
              "      <div>\n",
              "<style scoped>\n",
              "    .dataframe tbody tr th:only-of-type {\n",
              "        vertical-align: middle;\n",
              "    }\n",
              "\n",
              "    .dataframe tbody tr th {\n",
              "        vertical-align: top;\n",
              "    }\n",
              "\n",
              "    .dataframe thead th {\n",
              "        text-align: right;\n",
              "    }\n",
              "</style>\n",
              "<table border=\"1\" class=\"dataframe\">\n",
              "  <thead>\n",
              "    <tr style=\"text-align: right;\">\n",
              "      <th></th>\n",
              "      <th>Unnamed: 0</th>\n",
              "      <th>CLIENTNUM</th>\n",
              "      <th>Attrition_Flag</th>\n",
              "      <th>Customer_Age</th>\n",
              "      <th>Gender</th>\n",
              "      <th>Education_Level</th>\n",
              "      <th>Marital_Status</th>\n",
              "      <th>Income_Category</th>\n",
              "      <th>Card_Category</th>\n",
              "      <th>Credit_Limit</th>\n",
              "    </tr>\n",
              "  </thead>\n",
              "  <tbody>\n",
              "    <tr>\n",
              "      <th>count</th>\n",
              "      <td>20.000000</td>\n",
              "      <td>2.000000e+01</td>\n",
              "      <td>20</td>\n",
              "      <td>20.000000</td>\n",
              "      <td>20</td>\n",
              "      <td>20</td>\n",
              "      <td>20</td>\n",
              "      <td>20</td>\n",
              "      <td>20</td>\n",
              "      <td>20.000000</td>\n",
              "    </tr>\n",
              "    <tr>\n",
              "      <th>unique</th>\n",
              "      <td>NaN</td>\n",
              "      <td>NaN</td>\n",
              "      <td>2</td>\n",
              "      <td>NaN</td>\n",
              "      <td>2</td>\n",
              "      <td>7</td>\n",
              "      <td>3</td>\n",
              "      <td>6</td>\n",
              "      <td>1</td>\n",
              "      <td>NaN</td>\n",
              "    </tr>\n",
              "    <tr>\n",
              "      <th>top</th>\n",
              "      <td>NaN</td>\n",
              "      <td>NaN</td>\n",
              "      <td>Attrited Customer</td>\n",
              "      <td>NaN</td>\n",
              "      <td>M</td>\n",
              "      <td>Uneducated</td>\n",
              "      <td>Single</td>\n",
              "      <td>$60K - $80K</td>\n",
              "      <td>Blue</td>\n",
              "      <td>NaN</td>\n",
              "    </tr>\n",
              "    <tr>\n",
              "      <th>freq</th>\n",
              "      <td>NaN</td>\n",
              "      <td>NaN</td>\n",
              "      <td>10</td>\n",
              "      <td>NaN</td>\n",
              "      <td>11</td>\n",
              "      <td>5</td>\n",
              "      <td>11</td>\n",
              "      <td>5</td>\n",
              "      <td>20</td>\n",
              "      <td>NaN</td>\n",
              "    </tr>\n",
              "    <tr>\n",
              "      <th>mean</th>\n",
              "      <td>6105.100000</td>\n",
              "      <td>7.424893e+08</td>\n",
              "      <td>NaN</td>\n",
              "      <td>47.250000</td>\n",
              "      <td>NaN</td>\n",
              "      <td>NaN</td>\n",
              "      <td>NaN</td>\n",
              "      <td>NaN</td>\n",
              "      <td>NaN</td>\n",
              "      <td>8114.580000</td>\n",
              "    </tr>\n",
              "    <tr>\n",
              "      <th>std</th>\n",
              "      <td>2850.304026</td>\n",
              "      <td>4.045524e+07</td>\n",
              "      <td>NaN</td>\n",
              "      <td>7.859791</td>\n",
              "      <td>NaN</td>\n",
              "      <td>NaN</td>\n",
              "      <td>NaN</td>\n",
              "      <td>NaN</td>\n",
              "      <td>NaN</td>\n",
              "      <td>8331.036819</td>\n",
              "    </tr>\n",
              "    <tr>\n",
              "      <th>min</th>\n",
              "      <td>176.000000</td>\n",
              "      <td>7.092220e+08</td>\n",
              "      <td>NaN</td>\n",
              "      <td>32.000000</td>\n",
              "      <td>NaN</td>\n",
              "      <td>NaN</td>\n",
              "      <td>NaN</td>\n",
              "      <td>NaN</td>\n",
              "      <td>NaN</td>\n",
              "      <td>1438.300000</td>\n",
              "    </tr>\n",
              "    <tr>\n",
              "      <th>25%</th>\n",
              "      <td>4695.750000</td>\n",
              "      <td>7.120726e+08</td>\n",
              "      <td>NaN</td>\n",
              "      <td>41.000000</td>\n",
              "      <td>NaN</td>\n",
              "      <td>NaN</td>\n",
              "      <td>NaN</td>\n",
              "      <td>NaN</td>\n",
              "      <td>NaN</td>\n",
              "      <td>2502.500000</td>\n",
              "    </tr>\n",
              "    <tr>\n",
              "      <th>50%</th>\n",
              "      <td>6299.000000</td>\n",
              "      <td>7.173934e+08</td>\n",
              "      <td>NaN</td>\n",
              "      <td>47.500000</td>\n",
              "      <td>NaN</td>\n",
              "      <td>NaN</td>\n",
              "      <td>NaN</td>\n",
              "      <td>NaN</td>\n",
              "      <td>NaN</td>\n",
              "      <td>4118.500000</td>\n",
              "    </tr>\n",
              "    <tr>\n",
              "      <th>75%</th>\n",
              "      <td>8206.500000</td>\n",
              "      <td>7.822994e+08</td>\n",
              "      <td>NaN</td>\n",
              "      <td>53.500000</td>\n",
              "      <td>NaN</td>\n",
              "      <td>NaN</td>\n",
              "      <td>NaN</td>\n",
              "      <td>NaN</td>\n",
              "      <td>NaN</td>\n",
              "      <td>8621.000000</td>\n",
              "    </tr>\n",
              "    <tr>\n",
              "      <th>max</th>\n",
              "      <td>10084.000000</td>\n",
              "      <td>8.098441e+08</td>\n",
              "      <td>NaN</td>\n",
              "      <td>59.000000</td>\n",
              "      <td>NaN</td>\n",
              "      <td>NaN</td>\n",
              "      <td>NaN</td>\n",
              "      <td>NaN</td>\n",
              "      <td>NaN</td>\n",
              "      <td>26792.000000</td>\n",
              "    </tr>\n",
              "  </tbody>\n",
              "</table>\n",
              "</div>\n",
              "      <button class=\"colab-df-convert\" onclick=\"convertToInteractive('df-a17e7385-cd50-4aeb-91c5-a95ab3e50247')\"\n",
              "              title=\"Convert this dataframe to an interactive table.\"\n",
              "              style=\"display:none;\">\n",
              "        \n",
              "  <svg xmlns=\"http://www.w3.org/2000/svg\" height=\"24px\"viewBox=\"0 0 24 24\"\n",
              "       width=\"24px\">\n",
              "    <path d=\"M0 0h24v24H0V0z\" fill=\"none\"/>\n",
              "    <path d=\"M18.56 5.44l.94 2.06.94-2.06 2.06-.94-2.06-.94-.94-2.06-.94 2.06-2.06.94zm-11 1L8.5 8.5l.94-2.06 2.06-.94-2.06-.94L8.5 2.5l-.94 2.06-2.06.94zm10 10l.94 2.06.94-2.06 2.06-.94-2.06-.94-.94-2.06-.94 2.06-2.06.94z\"/><path d=\"M17.41 7.96l-1.37-1.37c-.4-.4-.92-.59-1.43-.59-.52 0-1.04.2-1.43.59L10.3 9.45l-7.72 7.72c-.78.78-.78 2.05 0 2.83L4 21.41c.39.39.9.59 1.41.59.51 0 1.02-.2 1.41-.59l7.78-7.78 2.81-2.81c.8-.78.8-2.07 0-2.86zM5.41 20L4 18.59l7.72-7.72 1.47 1.35L5.41 20z\"/>\n",
              "  </svg>\n",
              "      </button>\n",
              "      \n",
              "  <style>\n",
              "    .colab-df-container {\n",
              "      display:flex;\n",
              "      flex-wrap:wrap;\n",
              "      gap: 12px;\n",
              "    }\n",
              "\n",
              "    .colab-df-convert {\n",
              "      background-color: #E8F0FE;\n",
              "      border: none;\n",
              "      border-radius: 50%;\n",
              "      cursor: pointer;\n",
              "      display: none;\n",
              "      fill: #1967D2;\n",
              "      height: 32px;\n",
              "      padding: 0 0 0 0;\n",
              "      width: 32px;\n",
              "    }\n",
              "\n",
              "    .colab-df-convert:hover {\n",
              "      background-color: #E2EBFA;\n",
              "      box-shadow: 0px 1px 2px rgba(60, 64, 67, 0.3), 0px 1px 3px 1px rgba(60, 64, 67, 0.15);\n",
              "      fill: #174EA6;\n",
              "    }\n",
              "\n",
              "    [theme=dark] .colab-df-convert {\n",
              "      background-color: #3B4455;\n",
              "      fill: #D2E3FC;\n",
              "    }\n",
              "\n",
              "    [theme=dark] .colab-df-convert:hover {\n",
              "      background-color: #434B5C;\n",
              "      box-shadow: 0px 1px 3px 1px rgba(0, 0, 0, 0.15);\n",
              "      filter: drop-shadow(0px 1px 2px rgba(0, 0, 0, 0.3));\n",
              "      fill: #FFFFFF;\n",
              "    }\n",
              "  </style>\n",
              "\n",
              "      <script>\n",
              "        const buttonEl =\n",
              "          document.querySelector('#df-a17e7385-cd50-4aeb-91c5-a95ab3e50247 button.colab-df-convert');\n",
              "        buttonEl.style.display =\n",
              "          google.colab.kernel.accessAllowed ? 'block' : 'none';\n",
              "\n",
              "        async function convertToInteractive(key) {\n",
              "          const element = document.querySelector('#df-a17e7385-cd50-4aeb-91c5-a95ab3e50247');\n",
              "          const dataTable =\n",
              "            await google.colab.kernel.invokeFunction('convertToInteractive',\n",
              "                                                     [key], {});\n",
              "          if (!dataTable) return;\n",
              "\n",
              "          const docLinkHtml = 'Like what you see? Visit the ' +\n",
              "            '<a target=\"_blank\" href=https://colab.research.google.com/notebooks/data_table.ipynb>data table notebook</a>'\n",
              "            + ' to learn more about interactive tables.';\n",
              "          element.innerHTML = '';\n",
              "          dataTable['output_type'] = 'display_data';\n",
              "          await google.colab.output.renderOutput(dataTable, element);\n",
              "          const docLink = document.createElement('div');\n",
              "          docLink.innerHTML = docLinkHtml;\n",
              "          element.appendChild(docLink);\n",
              "        }\n",
              "      </script>\n",
              "    </div>\n",
              "  </div>\n",
              "  "
            ]
          },
          "metadata": {},
          "execution_count": 8
        }
      ]
    },
    {
      "cell_type": "markdown",
      "source": [
        "#### Explore Data"
      ],
      "metadata": {
        "id": "PmPSc7uV_XjV"
      }
    },
    {
      "cell_type": "markdown",
      "source": [
        "##### Visualisasi Comparison"
      ],
      "metadata": {
        "id": "OXfexpup_a6l"
      }
    },
    {
      "cell_type": "code",
      "source": [
        "# Buatlah visualisasi yang menampilkan berapa banyak yang attired customer dan tidak\n",
        "sns.countplot(y= \"Attrition_Flag\", data=df)"
      ],
      "metadata": {
        "id": "EIVBtry9_W5m",
        "colab": {
          "base_uri": "https://localhost:8080/",
          "height": 296
        },
        "outputId": "0f469782-56bc-4dd2-f81e-92c1a8fa00e5"
      },
      "execution_count": null,
      "outputs": [
        {
          "output_type": "execute_result",
          "data": {
            "text/plain": [
              "<AxesSubplot:xlabel='count', ylabel='Attrition_Flag'>"
            ]
          },
          "metadata": {},
          "execution_count": 9
        },
        {
          "output_type": "display_data",
          "data": {
            "text/plain": [
              "<Figure size 432x288 with 1 Axes>"
            ],
            "image/png": "[encoded data removed]"
          },
          "metadata": {
            "needs_background": "light"
          }
        }
      ]
    },
    {
      "cell_type": "code",
      "source": [
        "# Buatlah visualisasi yang menampilkan berapa banyak Education level berdasarkan kategori-kategorinya \n",
        "# contoh Unknown berapa dsb\n",
        "sns.countplot(y= \"Education_Level\", data=df)"
      ],
      "metadata": {
        "id": "UgQPmLrH_lbd",
        "colab": {
          "base_uri": "https://localhost:8080/",
          "height": 296
        },
        "outputId": "d4957981-fa82-4789-deb2-d7831a202d5c"
      },
      "execution_count": null,
      "outputs": [
        {
          "output_type": "execute_result",
          "data": {
            "text/plain": [
              "<AxesSubplot:xlabel='count', ylabel='Education_Level'>"
            ]
          },
          "metadata": {},
          "execution_count": 10
        },
        {
          "output_type": "display_data",
          "data": {
            "text/plain": [
              "<Figure size 432x288 with 1 Axes>"
            ],
            "image/png": "[encoded data removed]"
          },
          "metadata": {
            "needs_background": "light"
          }
        }
      ]
    },
    {
      "cell_type": "code",
      "source": [
        "# Buatlah visualisasi yang menampilkan berapa banyak Education level berdasarkan gendernya\n",
        "# contoh M berapa F berapa\n",
        "sns.countplot(y= \"Education_Level\", hue=\"Gender\", data=df)"
      ],
      "metadata": {
        "id": "8Ahhq1TG__7k",
        "colab": {
          "base_uri": "https://localhost:8080/",
          "height": 296
        },
        "outputId": "f9459ec0-4e00-4e81-831a-3253f846566a"
      },
      "execution_count": null,
      "outputs": [
        {
          "output_type": "execute_result",
          "data": {
            "text/plain": [
              "<AxesSubplot:xlabel='count', ylabel='Education_Level'>"
            ]
          },
          "metadata": {},
          "execution_count": 11
        },
        {
          "output_type": "display_data",
          "data": {
            "text/plain": [
              "<Figure size 432x288 with 1 Axes>"
            ],
            "image/png": "[encoded data removed]"
          },
          "metadata": {
            "needs_background": "light"
          }
        }
      ]
    },
    {
      "cell_type": "markdown",
      "source": [
        "berikan penjelasannya untuk tiap visualsiasi  disini"
      ],
      "metadata": {
        "id": "l0RDSKIjPMae"
      }
    },
    {
      "cell_type": "markdown",
      "source": [
        "##### Visualisasi Distribution\n"
      ],
      "metadata": {
        "id": "CAFZk0hOAEUT"
      }
    },
    {
      "cell_type": "code",
      "source": [
        "# Buatlah historgram untuk customer dan credit card limit\n",
        "sns.histplot(data=df,x=\"Credit_Limit\", kde=True)"
      ],
      "metadata": {
        "id": "RX_wqpm7PPne",
        "colab": {
          "base_uri": "https://localhost:8080/",
          "height": 297
        },
        "outputId": "8f00ae2b-4cf1-4a51-ed5a-8ae041c13fc7"
      },
      "execution_count": null,
      "outputs": [
        {
          "output_type": "execute_result",
          "data": {
            "text/plain": [
              "<AxesSubplot:xlabel='Credit_Limit', ylabel='Count'>"
            ]
          },
          "metadata": {},
          "execution_count": 18
        },
        {
          "output_type": "display_data",
          "data": {
            "text/plain": [
              "<Figure size 432x288 with 1 Axes>"
            ],
            "image/png": "[encoded data removed]"
          },
          "metadata": {
            "needs_background": "light"
          }
        }
      ]
    },
    {
      "cell_type": "code",
      "source": [
        "sns.histplot(data=df,x=\"Customer_Age\", kde=True)"
      ],
      "metadata": {
        "colab": {
          "base_uri": "https://localhost:8080/",
          "height": 297
        },
        "id": "ZyZy-d2kkAGh",
        "outputId": "054d2013-937f-4a20-e968-0cfc3130b562"
      },
      "execution_count": null,
      "outputs": [
        {
          "output_type": "execute_result",
          "data": {
            "text/plain": [
              "<AxesSubplot:xlabel='Customer_Age', ylabel='Count'>"
            ]
          },
          "metadata": {},
          "execution_count": 19
        },
        {
          "output_type": "display_data",
          "data": {
            "text/plain": [
              "<Figure size 432x288 with 1 Axes>"
            ],
            "image/png": "[encoded data removed]"
          },
          "metadata": {
            "needs_background": "light"
          }
        }
      ]
    },
    {
      "cell_type": "code",
      "source": [
        "# Buatlah boxplot untuk customer dan credit card limit\n",
        "sns.boxplot(data=df, x=\"Customer_Age\", color=\"cyan\")"
      ],
      "metadata": {
        "id": "IcF_B1HmP7mO",
        "colab": {
          "base_uri": "https://localhost:8080/",
          "height": 297
        },
        "outputId": "14388652-af7c-4eb8-dec8-0164386cb266"
      },
      "execution_count": null,
      "outputs": [
        {
          "output_type": "execute_result",
          "data": {
            "text/plain": [
              "<AxesSubplot:xlabel='Customer_Age'>"
            ]
          },
          "metadata": {},
          "execution_count": 26
        },
        {
          "output_type": "display_data",
          "data": {
            "text/plain": [
              "<Figure size 432x288 with 1 Axes>"
            ],
            "image/png": "[encoded data removed]"
          },
          "metadata": {
            "needs_background": "light"
          }
        }
      ]
    },
    {
      "cell_type": "code",
      "source": [
        "sns.boxplot(data=df, x=\"Credit_Limit\", color=\"purple\")"
      ],
      "metadata": {
        "colab": {
          "base_uri": "https://localhost:8080/",
          "height": 297
        },
        "id": "DZ-RMmqSlcdu",
        "outputId": "c5c2eb67-f9c5-4888-afbf-a50746bd54d8"
      },
      "execution_count": null,
      "outputs": [
        {
          "output_type": "execute_result",
          "data": {
            "text/plain": [
              "<AxesSubplot:xlabel='Credit_Limit'>"
            ]
          },
          "metadata": {},
          "execution_count": 30
        },
        {
          "output_type": "display_data",
          "data": {
            "text/plain": [
              "<Figure size 432x288 with 1 Axes>"
            ],
            "image/png": "[encoded data removed]"
          },
          "metadata": {
            "needs_background": "light"
          }
        }
      ]
    },
    {
      "cell_type": "markdown",
      "source": [
        "berikan penjelasannya disini"
      ],
      "metadata": {
        "id": "v_TwvSa9P94E"
      }
    },
    {
      "cell_type": "markdown",
      "source": [
        "##### Visualisasi Relationship\n",
        "\n",
        "\n"
      ],
      "metadata": {
        "id": "ezkaX5QbPfNG"
      }
    },
    {
      "cell_type": "code",
      "source": [
        "# Buatlah scatterplot untuk umur customer dan credit card limit\n",
        "sns.scatterplot(data=df, x=\"Customer_Age\", y=\"Credit_Limit\")"
      ],
      "metadata": {
        "id": "y-lzGBWSP3b8",
        "colab": {
          "base_uri": "https://localhost:8080/",
          "height": 297
        },
        "outputId": "9e364814-e647-4923-ae36-9a6abd92a03e"
      },
      "execution_count": null,
      "outputs": [
        {
          "output_type": "execute_result",
          "data": {
            "text/plain": [
              "<AxesSubplot:xlabel='Customer_Age', ylabel='Credit_Limit'>"
            ]
          },
          "metadata": {},
          "execution_count": 31
        },
        {
          "output_type": "display_data",
          "data": {
            "text/plain": [
              "<Figure size 432x288 with 1 Axes>"
            ],
            "image/png": "[encoded data removed]"
          },
          "metadata": {
            "needs_background": "light"
          }
        }
      ]
    },
    {
      "cell_type": "markdown",
      "source": [
        "##### Visualisasi Composition\n",
        "\n",
        "\n"
      ],
      "metadata": {
        "id": "5jEZ8lWTQWwG"
      }
    },
    {
      "cell_type": "code",
      "source": [
        "# Buatlah pieplot untuk Income Category & Education Level"
      ],
      "metadata": {
        "id": "hjPoni4qQWwH"
      },
      "execution_count": null,
      "outputs": []
    },
    {
      "cell_type": "code",
      "source": [
        "px.pie(df,names= \"Income_Category\")"
      ],
      "metadata": {
        "colab": {
          "base_uri": "https://localhost:8080/",
          "height": 542
        },
        "id": "MhBdfTOamFe7",
        "outputId": "347ac914-d50e-4173-d138-d8210a317f21"
      },
      "execution_count": null,
      "outputs": [
        {
          "output_type": "display_data",
          "data": {
            "text/html": [
              "<html>\n",
              "<head><meta charset=\"utf-8\" /></head>\n",
              "<body>\n",
              "    <div>            <script src=\"https://cdnjs.cloudflare.com/ajax/libs/mathjax/2.7.5/MathJax.js?config=TeX-AMS-MML_SVG\"></script><script type=\"text/javascript\">if (window.MathJax) {MathJax.Hub.Config({SVG: {font: \"STIX-Web\"}});}</script>                <script type=\"text/javascript\">window.PlotlyConfig = {MathJaxConfig: 'local'};</script>\n",
              "        <script src=\"https://cdn.plot.ly/plotly-2.8.3.min.js\"></script>                <div id=\"d906608e-e92f-48f3-9ae1-405afe9a0182\" class=\"plotly-graph-div\" style=\"height:525px; width:100%;\"></div>            <script type=\"text/javascript\">                                    window.PLOTLYENV=window.PLOTLYENV || {};                                    if (document.getElementById(\"d906608e-e92f-48f3-9ae1-405afe9a0182\")) {                    Plotly.newPlot(                        \"d906608e-e92f-48f3-9ae1-405afe9a0182\",                        [{\"domain\":{\"x\":[0.0,1.0],\"y\":[0.0,1.0]},\"hovertemplate\":\"Income_Category=%{label}<extra></extra>\",\"labels\":[\"$40K - $60K\",\"$60K - $80K\",\"$80K - $120K\",\"$120K +\",\"Less than $40K\",\"$80K - $120K\",\"$60K - $80K\",\"Less than $40K\",\"Unknown\",\"$80K - $120K\",\"$60K - $80K\",\"$80K - $120K\",\"Unknown\",\"$60K - $80K\",\"Unknown\",\"Less than $40K\",\"Less than $40K\",\"Less than $40K\",\"$60K - $80K\",\"Unknown\"],\"legendgroup\":\"\",\"name\":\"\",\"showlegend\":true,\"type\":\"pie\"}],                        {\"template\":{\"data\":{\"bar\":[{\"error_x\":{\"color\":\"#2a3f5f\"},\"error_y\":{\"color\":\"#2a3f5f\"},\"marker\":{\"line\":{\"color\":\"#E5ECF6\",\"width\":0.5},\"pattern\":{\"fillmode\":\"overlay\",\"size\":10,\"solidity\":0.2}},\"type\":\"bar\"}],\"barpolar\":[{\"marker\":{\"line\":{\"color\":\"#E5ECF6\",\"width\":0.5},\"pattern\":{\"fillmode\":\"overlay\",\"size\":10,\"solidity\":0.2}},\"type\":\"barpolar\"}],\"carpet\":[{\"aaxis\":{\"endlinecolor\":\"#2a3f5f\",\"gridcolor\":\"white\",\"linecolor\":\"white\",\"minorgridcolor\":\"white\",\"startlinecolor\":\"#2a3f5f\"},\"baxis\":{\"endlinecolor\":\"#2a3f5f\",\"gridcolor\":\"white\",\"linecolor\":\"white\",\"minorgridcolor\":\"white\",\"startlinecolor\":\"#2a3f5f\"},\"type\":\"carpet\"}],\"choropleth\":[{\"colorbar\":{\"outlinewidth\":0,\"ticks\":\"\"},\"type\":\"choropleth\"}],\"contour\":[{\"colorbar\":{\"outlinewidth\":0,\"ticks\":\"\"},\"colorscale\":[[0.0,\"#0d0887\"],[0.1111111111111111,\"#46039f\"],[0.2222222222222222,\"#7201a8\"],[0.3333333333333333,\"#9c179e\"],[0.4444444444444444,\"#bd3786\"],[0.5555555555555556,\"#d8576b\"],[0.6666666666666666,\"#ed7953\"],[0.7777777777777778,\"#fb9f3a\"],[0.8888888888888888,\"#fdca26\"],[1.0,\"#f0f921\"]],\"type\":\"contour\"}],\"contourcarpet\":[{\"colorbar\":{\"outlinewidth\":0,\"ticks\":\"\"},\"type\":\"contourcarpet\"}],\"heatmap\":[{\"colorbar\":{\"outlinewidth\":0,\"ticks\":\"\"},\"colorscale\":[[0.0,\"#0d0887\"],[0.1111111111111111,\"#46039f\"],[0.2222222222222222,\"#7201a8\"],[0.3333333333333333,\"#9c179e\"],[0.4444444444444444,\"#bd3786\"],[0.5555555555555556,\"#d8576b\"],[0.6666666666666666,\"#ed7953\"],[0.7777777777777778,\"#fb9f3a\"],[0.8888888888888888,\"#fdca26\"],[1.0,\"#f0f921\"]],\"type\":\"heatmap\"}],\"heatmapgl\":[{\"colorbar\":{\"outlinewidth\":0,\"ticks\":\"\"},\"colorscale\":[[0.0,\"#0d0887\"],[0.1111111111111111,\"#46039f\"],[0.2222222222222222,\"#7201a8\"],[0.3333333333333333,\"#9c179e\"],[0.4444444444444444,\"#bd3786\"],[0.5555555555555556,\"#d8576b\"],[0.6666666666666666,\"#ed7953\"],[0.7777777777777778,\"#fb9f3a\"],[0.8888888888888888,\"#fdca26\"],[1.0,\"#f0f921\"]],\"type\":\"heatmapgl\"}],\"histogram\":[{\"marker\":{\"pattern\":{\"fillmode\":\"overlay\",\"size\":10,\"solidity\":0.2}},\"type\":\"histogram\"}],\"histogram2d\":[{\"colorbar\":{\"outlinewidth\":0,\"ticks\":\"\"},\"colorscale\":[[0.0,\"#0d0887\"],[0.1111111111111111,\"#46039f\"],[0.2222222222222222,\"#7201a8\"],[0.3333333333333333,\"#9c179e\"],[0.4444444444444444,\"#bd3786\"],[0.5555555555555556,\"#d8576b\"],[0.6666666666666666,\"#ed7953\"],[0.7777777777777778,\"#fb9f3a\"],[0.8888888888888888,\"#fdca26\"],[1.0,\"#f0f921\"]],\"type\":\"histogram2d\"}],\"histogram2dcontour\":[{\"colorbar\":{\"outlinewidth\":0,\"ticks\":\"\"},\"colorscale\":[[0.0,\"#0d0887\"],[0.1111111111111111,\"#46039f\"],[0.2222222222222222,\"#7201a8\"],[0.3333333333333333,\"#9c179e\"],[0.4444444444444444,\"#bd3786\"],[0.5555555555555556,\"#d8576b\"],[0.6666666666666666,\"#ed7953\"],[0.7777777777777778,\"#fb9f3a\"],[0.8888888888888888,\"#fdca26\"],[1.0,\"#f0f921\"]],\"type\":\"histogram2dcontour\"}],\"mesh3d\":[{\"colorbar\":{\"outlinewidth\":0,\"ticks\":\"\"},\"type\":\"mesh3d\"}],\"parcoords\":[{\"line\":{\"colorbar\":{\"outlinewidth\":0,\"ticks\":\"\"}},\"type\":\"parcoords\"}],\"pie\":[{\"automargin\":true,\"type\":\"pie\"}],\"scatter\":[{\"marker\":{\"colorbar\":{\"outlinewidth\":0,\"ticks\":\"\"}},\"type\":\"scatter\"}],\"scatter3d\":[{\"line\":{\"colorbar\":{\"outlinewidth\":0,\"ticks\":\"\"}},\"marker\":{\"colorbar\":{\"outlinewidth\":0,\"ticks\":\"\"}},\"type\":\"scatter3d\"}],\"scattercarpet\":[{\"marker\":{\"colorbar\":{\"outlinewidth\":0,\"ticks\":\"\"}},\"type\":\"scattercarpet\"}],\"scattergeo\":[{\"marker\":{\"colorbar\":{\"outlinewidth\":0,\"ticks\":\"\"}},\"type\":\"scattergeo\"}],\"scattergl\":[{\"marker\":{\"colorbar\":{\"outlinewidth\":0,\"ticks\":\"\"}},\"type\":\"scattergl\"}],\"scattermapbox\":[{\"marker\":{\"colorbar\":{\"outlinewidth\":0,\"ticks\":\"\"}},\"type\":\"scattermapbox\"}],\"scatterpolar\":[{\"marker\":{\"colorbar\":{\"outlinewidth\":0,\"ticks\":\"\"}},\"type\":\"scatterpolar\"}],\"scatterpolargl\":[{\"marker\":{\"colorbar\":{\"outlinewidth\":0,\"ticks\":\"\"}},\"type\":\"scatterpolargl\"}],\"scatterternary\":[{\"marker\":{\"colorbar\":{\"outlinewidth\":0,\"ticks\":\"\"}},\"type\":\"scatterternary\"}],\"surface\":[{\"colorbar\":{\"outlinewidth\":0,\"ticks\":\"\"},\"colorscale\":[[0.0,\"#0d0887\"],[0.1111111111111111,\"#46039f\"],[0.2222222222222222,\"#7201a8\"],[0.3333333333333333,\"#9c179e\"],[0.4444444444444444,\"#bd3786\"],[0.5555555555555556,\"#d8576b\"],[0.6666666666666666,\"#ed7953\"],[0.7777777777777778,\"#fb9f3a\"],[0.8888888888888888,\"#fdca26\"],[1.0,\"#f0f921\"]],\"type\":\"surface\"}],\"table\":[{\"cells\":{\"fill\":{\"color\":\"#EBF0F8\"},\"line\":{\"color\":\"white\"}},\"header\":{\"fill\":{\"color\":\"#C8D4E3\"},\"line\":{\"color\":\"white\"}},\"type\":\"table\"}]},\"layout\":{\"annotationdefaults\":{\"arrowcolor\":\"#2a3f5f\",\"arrowhead\":0,\"arrowwidth\":1},\"autotypenumbers\":\"strict\",\"coloraxis\":{\"colorbar\":{\"outlinewidth\":0,\"ticks\":\"\"}},\"colorscale\":{\"diverging\":[[0,\"#8e0152\"],[0.1,\"#c51b7d\"],[0.2,\"#de77ae\"],[0.3,\"#f1b6da\"],[0.4,\"#fde0ef\"],[0.5,\"#f7f7f7\"],[0.6,\"#e6f5d0\"],[0.7,\"#b8e186\"],[0.8,\"#7fbc41\"],[0.9,\"#4d9221\"],[1,\"#276419\"]],\"sequential\":[[0.0,\"#0d0887\"],[0.1111111111111111,\"#46039f\"],[0.2222222222222222,\"#7201a8\"],[0.3333333333333333,\"#9c179e\"],[0.4444444444444444,\"#bd3786\"],[0.5555555555555556,\"#d8576b\"],[0.6666666666666666,\"#ed7953\"],[0.7777777777777778,\"#fb9f3a\"],[0.8888888888888888,\"#fdca26\"],[1.0,\"#f0f921\"]],\"sequentialminus\":[[0.0,\"#0d0887\"],[0.1111111111111111,\"#46039f\"],[0.2222222222222222,\"#7201a8\"],[0.3333333333333333,\"#9c179e\"],[0.4444444444444444,\"#bd3786\"],[0.5555555555555556,\"#d8576b\"],[0.6666666666666666,\"#ed7953\"],[0.7777777777777778,\"#fb9f3a\"],[0.8888888888888888,\"#fdca26\"],[1.0,\"#f0f921\"]]},\"colorway\":[\"#636efa\",\"#EF553B\",\"#00cc96\",\"#ab63fa\",\"#FFA15A\",\"#19d3f3\",\"#FF6692\",\"#B6E880\",\"#FF97FF\",\"#FECB52\"],\"font\":{\"color\":\"#2a3f5f\"},\"geo\":{\"bgcolor\":\"white\",\"lakecolor\":\"white\",\"landcolor\":\"#E5ECF6\",\"showlakes\":true,\"showland\":true,\"subunitcolor\":\"white\"},\"hoverlabel\":{\"align\":\"left\"},\"hovermode\":\"closest\",\"mapbox\":{\"style\":\"light\"},\"paper_bgcolor\":\"white\",\"plot_bgcolor\":\"#E5ECF6\",\"polar\":{\"angularaxis\":{\"gridcolor\":\"white\",\"linecolor\":\"white\",\"ticks\":\"\"},\"bgcolor\":\"#E5ECF6\",\"radialaxis\":{\"gridcolor\":\"white\",\"linecolor\":\"white\",\"ticks\":\"\"}},\"scene\":{\"xaxis\":{\"backgroundcolor\":\"#E5ECF6\",\"gridcolor\":\"white\",\"gridwidth\":2,\"linecolor\":\"white\",\"showbackground\":true,\"ticks\":\"\",\"zerolinecolor\":\"white\"},\"yaxis\":{\"backgroundcolor\":\"#E5ECF6\",\"gridcolor\":\"white\",\"gridwidth\":2,\"linecolor\":\"white\",\"showbackground\":true,\"ticks\":\"\",\"zerolinecolor\":\"white\"},\"zaxis\":{\"backgroundcolor\":\"#E5ECF6\",\"gridcolor\":\"white\",\"gridwidth\":2,\"linecolor\":\"white\",\"showbackground\":true,\"ticks\":\"\",\"zerolinecolor\":\"white\"}},\"shapedefaults\":{\"line\":{\"color\":\"#2a3f5f\"}},\"ternary\":{\"aaxis\":{\"gridcolor\":\"white\",\"linecolor\":\"white\",\"ticks\":\"\"},\"baxis\":{\"gridcolor\":\"white\",\"linecolor\":\"white\",\"ticks\":\"\"},\"bgcolor\":\"#E5ECF6\",\"caxis\":{\"gridcolor\":\"white\",\"linecolor\":\"white\",\"ticks\":\"\"}},\"title\":{\"x\":0.05},\"xaxis\":{\"automargin\":true,\"gridcolor\":\"white\",\"linecolor\":\"white\",\"ticks\":\"\",\"title\":{\"standoff\":15},\"zerolinecolor\":\"white\",\"zerolinewidth\":2},\"yaxis\":{\"automargin\":true,\"gridcolor\":\"white\",\"linecolor\":\"white\",\"ticks\":\"\",\"title\":{\"standoff\":15},\"zerolinecolor\":\"white\",\"zerolinewidth\":2}}},\"legend\":{\"tracegroupgap\":0},\"margin\":{\"t\":60}},                        {\"responsive\": true}                    ).then(function(){\n",
              "                            \n",
              "var gd = document.getElementById('d906608e-e92f-48f3-9ae1-405afe9a0182');\n",
              "var x = new MutationObserver(function (mutations, observer) {{\n",
              "        var display = window.getComputedStyle(gd).display;\n",
              "        if (!display || display === 'none') {{\n",
              "            console.log([gd, 'removed!']);\n",
              "            Plotly.purge(gd);\n",
              "            observer.disconnect();\n",
              "        }}\n",
              "}});\n",
              "\n",
              "// Listen for the removal of the full notebook cells\n",
              "var notebookContainer = gd.closest('#notebook-container');\n",
              "if (notebookContainer) {{\n",
              "    x.observe(notebookContainer, {childList: true});\n",
              "}}\n",
              "\n",
              "// Listen for the clearing of the current output cell\n",
              "var outputEl = gd.closest('.output');\n",
              "if (outputEl) {{\n",
              "    x.observe(outputEl, {childList: true});\n",
              "}}\n",
              "\n",
              "                        })                };                            </script>        </div>\n",
              "</body>\n",
              "</html>"
            ]
          },
          "metadata": {}
        }
      ]
    },
    {
      "cell_type": "code",
      "source": [
        "px.pie(df,names= \"Education_Level\")"
      ],
      "metadata": {
        "colab": {
          "base_uri": "https://localhost:8080/",
          "height": 542
        },
        "id": "pKx3CdKAncWS",
        "outputId": "f9e9161d-bd0d-4783-b5e2-a14b5576bd87"
      },
      "execution_count": null,
      "outputs": [
        {
          "output_type": "display_data",
          "data": {
            "text/html": [
              "<html>\n",
              "<head><meta charset=\"utf-8\" /></head>\n",
              "<body>\n",
              "    <div>            <script src=\"https://cdnjs.cloudflare.com/ajax/libs/mathjax/2.7.5/MathJax.js?config=TeX-AMS-MML_SVG\"></script><script type=\"text/javascript\">if (window.MathJax) {MathJax.Hub.Config({SVG: {font: \"STIX-Web\"}});}</script>                <script type=\"text/javascript\">window.PlotlyConfig = {MathJaxConfig: 'local'};</script>\n",
              "        <script src=\"https://cdn.plot.ly/plotly-2.8.3.min.js\"></script>                <div id=\"1b01b763-6391-4516-981c-21d58db7cc67\" class=\"plotly-graph-div\" style=\"height:525px; width:100%;\"></div>            <script type=\"text/javascript\">                                    window.PLOTLYENV=window.PLOTLYENV || {};                                    if (document.getElementById(\"1b01b763-6391-4516-981c-21d58db7cc67\")) {                    Plotly.newPlot(                        \"1b01b763-6391-4516-981c-21d58db7cc67\",                        [{\"domain\":{\"x\":[0.0,1.0],\"y\":[0.0,1.0]},\"hovertemplate\":\"Education_Level=%{label}<extra></extra>\",\"labels\":[\"Unknown\",\"Uneducated\",\"College\",\"High School\",\"Graduate\",\"Post-Graduate\",\"High School\",\"Graduate\",\"Uneducated\",\"Unknown\",\"Doctorate\",\"Uneducated\",\"High School\",\"Uneducated\",\"Uneducated\",\"Graduate\",\"Graduate\",\"High School\",\"Graduate\",\"Post-Graduate\"],\"legendgroup\":\"\",\"name\":\"\",\"showlegend\":true,\"type\":\"pie\"}],                        {\"template\":{\"data\":{\"bar\":[{\"error_x\":{\"color\":\"#2a3f5f\"},\"error_y\":{\"color\":\"#2a3f5f\"},\"marker\":{\"line\":{\"color\":\"#E5ECF6\",\"width\":0.5},\"pattern\":{\"fillmode\":\"overlay\",\"size\":10,\"solidity\":0.2}},\"type\":\"bar\"}],\"barpolar\":[{\"marker\":{\"line\":{\"color\":\"#E5ECF6\",\"width\":0.5},\"pattern\":{\"fillmode\":\"overlay\",\"size\":10,\"solidity\":0.2}},\"type\":\"barpolar\"}],\"carpet\":[{\"aaxis\":{\"endlinecolor\":\"#2a3f5f\",\"gridcolor\":\"white\",\"linecolor\":\"white\",\"minorgridcolor\":\"white\",\"startlinecolor\":\"#2a3f5f\"},\"baxis\":{\"endlinecolor\":\"#2a3f5f\",\"gridcolor\":\"white\",\"linecolor\":\"white\",\"minorgridcolor\":\"white\",\"startlinecolor\":\"#2a3f5f\"},\"type\":\"carpet\"}],\"choropleth\":[{\"colorbar\":{\"outlinewidth\":0,\"ticks\":\"\"},\"type\":\"choropleth\"}],\"contour\":[{\"colorbar\":{\"outlinewidth\":0,\"ticks\":\"\"},\"colorscale\":[[0.0,\"#0d0887\"],[0.1111111111111111,\"#46039f\"],[0.2222222222222222,\"#7201a8\"],[0.3333333333333333,\"#9c179e\"],[0.4444444444444444,\"#bd3786\"],[0.5555555555555556,\"#d8576b\"],[0.6666666666666666,\"#ed7953\"],[0.7777777777777778,\"#fb9f3a\"],[0.8888888888888888,\"#fdca26\"],[1.0,\"#f0f921\"]],\"type\":\"contour\"}],\"contourcarpet\":[{\"colorbar\":{\"outlinewidth\":0,\"ticks\":\"\"},\"type\":\"contourcarpet\"}],\"heatmap\":[{\"colorbar\":{\"outlinewidth\":0,\"ticks\":\"\"},\"colorscale\":[[0.0,\"#0d0887\"],[0.1111111111111111,\"#46039f\"],[0.2222222222222222,\"#7201a8\"],[0.3333333333333333,\"#9c179e\"],[0.4444444444444444,\"#bd3786\"],[0.5555555555555556,\"#d8576b\"],[0.6666666666666666,\"#ed7953\"],[0.7777777777777778,\"#fb9f3a\"],[0.8888888888888888,\"#fdca26\"],[1.0,\"#f0f921\"]],\"type\":\"heatmap\"}],\"heatmapgl\":[{\"colorbar\":{\"outlinewidth\":0,\"ticks\":\"\"},\"colorscale\":[[0.0,\"#0d0887\"],[0.1111111111111111,\"#46039f\"],[0.2222222222222222,\"#7201a8\"],[0.3333333333333333,\"#9c179e\"],[0.4444444444444444,\"#bd3786\"],[0.5555555555555556,\"#d8576b\"],[0.6666666666666666,\"#ed7953\"],[0.7777777777777778,\"#fb9f3a\"],[0.8888888888888888,\"#fdca26\"],[1.0,\"#f0f921\"]],\"type\":\"heatmapgl\"}],\"histogram\":[{\"marker\":{\"pattern\":{\"fillmode\":\"overlay\",\"size\":10,\"solidity\":0.2}},\"type\":\"histogram\"}],\"histogram2d\":[{\"colorbar\":{\"outlinewidth\":0,\"ticks\":\"\"},\"colorscale\":[[0.0,\"#0d0887\"],[0.1111111111111111,\"#46039f\"],[0.2222222222222222,\"#7201a8\"],[0.3333333333333333,\"#9c179e\"],[0.4444444444444444,\"#bd3786\"],[0.5555555555555556,\"#d8576b\"],[0.6666666666666666,\"#ed7953\"],[0.7777777777777778,\"#fb9f3a\"],[0.8888888888888888,\"#fdca26\"],[1.0,\"#f0f921\"]],\"type\":\"histogram2d\"}],\"histogram2dcontour\":[{\"colorbar\":{\"outlinewidth\":0,\"ticks\":\"\"},\"colorscale\":[[0.0,\"#0d0887\"],[0.1111111111111111,\"#46039f\"],[0.2222222222222222,\"#7201a8\"],[0.3333333333333333,\"#9c179e\"],[0.4444444444444444,\"#bd3786\"],[0.5555555555555556,\"#d8576b\"],[0.6666666666666666,\"#ed7953\"],[0.7777777777777778,\"#fb9f3a\"],[0.8888888888888888,\"#fdca26\"],[1.0,\"#f0f921\"]],\"type\":\"histogram2dcontour\"}],\"mesh3d\":[{\"colorbar\":{\"outlinewidth\":0,\"ticks\":\"\"},\"type\":\"mesh3d\"}],\"parcoords\":[{\"line\":{\"colorbar\":{\"outlinewidth\":0,\"ticks\":\"\"}},\"type\":\"parcoords\"}],\"pie\":[{\"automargin\":true,\"type\":\"pie\"}],\"scatter\":[{\"marker\":{\"colorbar\":{\"outlinewidth\":0,\"ticks\":\"\"}},\"type\":\"scatter\"}],\"scatter3d\":[{\"line\":{\"colorbar\":{\"outlinewidth\":0,\"ticks\":\"\"}},\"marker\":{\"colorbar\":{\"outlinewidth\":0,\"ticks\":\"\"}},\"type\":\"scatter3d\"}],\"scattercarpet\":[{\"marker\":{\"colorbar\":{\"outlinewidth\":0,\"ticks\":\"\"}},\"type\":\"scattercarpet\"}],\"scattergeo\":[{\"marker\":{\"colorbar\":{\"outlinewidth\":0,\"ticks\":\"\"}},\"type\":\"scattergeo\"}],\"scattergl\":[{\"marker\":{\"colorbar\":{\"outlinewidth\":0,\"ticks\":\"\"}},\"type\":\"scattergl\"}],\"scattermapbox\":[{\"marker\":{\"colorbar\":{\"outlinewidth\":0,\"ticks\":\"\"}},\"type\":\"scattermapbox\"}],\"scatterpolar\":[{\"marker\":{\"colorbar\":{\"outlinewidth\":0,\"ticks\":\"\"}},\"type\":\"scatterpolar\"}],\"scatterpolargl\":[{\"marker\":{\"colorbar\":{\"outlinewidth\":0,\"ticks\":\"\"}},\"type\":\"scatterpolargl\"}],\"scatterternary\":[{\"marker\":{\"colorbar\":{\"outlinewidth\":0,\"ticks\":\"\"}},\"type\":\"scatterternary\"}],\"surface\":[{\"colorbar\":{\"outlinewidth\":0,\"ticks\":\"\"},\"colorscale\":[[0.0,\"#0d0887\"],[0.1111111111111111,\"#46039f\"],[0.2222222222222222,\"#7201a8\"],[0.3333333333333333,\"#9c179e\"],[0.4444444444444444,\"#bd3786\"],[0.5555555555555556,\"#d8576b\"],[0.6666666666666666,\"#ed7953\"],[0.7777777777777778,\"#fb9f3a\"],[0.8888888888888888,\"#fdca26\"],[1.0,\"#f0f921\"]],\"type\":\"surface\"}],\"table\":[{\"cells\":{\"fill\":{\"color\":\"#EBF0F8\"},\"line\":{\"color\":\"white\"}},\"header\":{\"fill\":{\"color\":\"#C8D4E3\"},\"line\":{\"color\":\"white\"}},\"type\":\"table\"}]},\"layout\":{\"annotationdefaults\":{\"arrowcolor\":\"#2a3f5f\",\"arrowhead\":0,\"arrowwidth\":1},\"autotypenumbers\":\"strict\",\"coloraxis\":{\"colorbar\":{\"outlinewidth\":0,\"ticks\":\"\"}},\"colorscale\":{\"diverging\":[[0,\"#8e0152\"],[0.1,\"#c51b7d\"],[0.2,\"#de77ae\"],[0.3,\"#f1b6da\"],[0.4,\"#fde0ef\"],[0.5,\"#f7f7f7\"],[0.6,\"#e6f5d0\"],[0.7,\"#b8e186\"],[0.8,\"#7fbc41\"],[0.9,\"#4d9221\"],[1,\"#276419\"]],\"sequential\":[[0.0,\"#0d0887\"],[0.1111111111111111,\"#46039f\"],[0.2222222222222222,\"#7201a8\"],[0.3333333333333333,\"#9c179e\"],[0.4444444444444444,\"#bd3786\"],[0.5555555555555556,\"#d8576b\"],[0.6666666666666666,\"#ed7953\"],[0.7777777777777778,\"#fb9f3a\"],[0.8888888888888888,\"#fdca26\"],[1.0,\"#f0f921\"]],\"sequentialminus\":[[0.0,\"#0d0887\"],[0.1111111111111111,\"#46039f\"],[0.2222222222222222,\"#7201a8\"],[0.3333333333333333,\"#9c179e\"],[0.4444444444444444,\"#bd3786\"],[0.5555555555555556,\"#d8576b\"],[0.6666666666666666,\"#ed7953\"],[0.7777777777777778,\"#fb9f3a\"],[0.8888888888888888,\"#fdca26\"],[1.0,\"#f0f921\"]]},\"colorway\":[\"#636efa\",\"#EF553B\",\"#00cc96\",\"#ab63fa\",\"#FFA15A\",\"#19d3f3\",\"#FF6692\",\"#B6E880\",\"#FF97FF\",\"#FECB52\"],\"font\":{\"color\":\"#2a3f5f\"},\"geo\":{\"bgcolor\":\"white\",\"lakecolor\":\"white\",\"landcolor\":\"#E5ECF6\",\"showlakes\":true,\"showland\":true,\"subunitcolor\":\"white\"},\"hoverlabel\":{\"align\":\"left\"},\"hovermode\":\"closest\",\"mapbox\":{\"style\":\"light\"},\"paper_bgcolor\":\"white\",\"plot_bgcolor\":\"#E5ECF6\",\"polar\":{\"angularaxis\":{\"gridcolor\":\"white\",\"linecolor\":\"white\",\"ticks\":\"\"},\"bgcolor\":\"#E5ECF6\",\"radialaxis\":{\"gridcolor\":\"white\",\"linecolor\":\"white\",\"ticks\":\"\"}},\"scene\":{\"xaxis\":{\"backgroundcolor\":\"#E5ECF6\",\"gridcolor\":\"white\",\"gridwidth\":2,\"linecolor\":\"white\",\"showbackground\":true,\"ticks\":\"\",\"zerolinecolor\":\"white\"},\"yaxis\":{\"backgroundcolor\":\"#E5ECF6\",\"gridcolor\":\"white\",\"gridwidth\":2,\"linecolor\":\"white\",\"showbackground\":true,\"ticks\":\"\",\"zerolinecolor\":\"white\"},\"zaxis\":{\"backgroundcolor\":\"#E5ECF6\",\"gridcolor\":\"white\",\"gridwidth\":2,\"linecolor\":\"white\",\"showbackground\":true,\"ticks\":\"\",\"zerolinecolor\":\"white\"}},\"shapedefaults\":{\"line\":{\"color\":\"#2a3f5f\"}},\"ternary\":{\"aaxis\":{\"gridcolor\":\"white\",\"linecolor\":\"white\",\"ticks\":\"\"},\"baxis\":{\"gridcolor\":\"white\",\"linecolor\":\"white\",\"ticks\":\"\"},\"bgcolor\":\"#E5ECF6\",\"caxis\":{\"gridcolor\":\"white\",\"linecolor\":\"white\",\"ticks\":\"\"}},\"title\":{\"x\":0.05},\"xaxis\":{\"automargin\":true,\"gridcolor\":\"white\",\"linecolor\":\"white\",\"ticks\":\"\",\"title\":{\"standoff\":15},\"zerolinecolor\":\"white\",\"zerolinewidth\":2},\"yaxis\":{\"automargin\":true,\"gridcolor\":\"white\",\"linecolor\":\"white\",\"ticks\":\"\",\"title\":{\"standoff\":15},\"zerolinecolor\":\"white\",\"zerolinewidth\":2}}},\"legend\":{\"tracegroupgap\":0},\"margin\":{\"t\":60}},                        {\"responsive\": true}                    ).then(function(){\n",
              "                            \n",
              "var gd = document.getElementById('1b01b763-6391-4516-981c-21d58db7cc67');\n",
              "var x = new MutationObserver(function (mutations, observer) {{\n",
              "        var display = window.getComputedStyle(gd).display;\n",
              "        if (!display || display === 'none') {{\n",
              "            console.log([gd, 'removed!']);\n",
              "            Plotly.purge(gd);\n",
              "            observer.disconnect();\n",
              "        }}\n",
              "}});\n",
              "\n",
              "// Listen for the removal of the full notebook cells\n",
              "var notebookContainer = gd.closest('#notebook-container');\n",
              "if (notebookContainer) {{\n",
              "    x.observe(notebookContainer, {childList: true});\n",
              "}}\n",
              "\n",
              "// Listen for the clearing of the current output cell\n",
              "var outputEl = gd.closest('.output');\n",
              "if (outputEl) {{\n",
              "    x.observe(outputEl, {childList: true});\n",
              "}}\n",
              "\n",
              "                        })                };                            </script>        </div>\n",
              "</body>\n",
              "</html>"
            ]
          },
          "metadata": {}
        }
      ]
    },
    {
      "cell_type": "markdown",
      "source": [
        "### Opsional (Nilai Plus)"
      ],
      "metadata": {
        "id": "rNiY6kMdQlqj"
      }
    },
    {
      "cell_type": "code",
      "source": [
        "# Buatlah visualisasi boxplot Credit Card Limit dengan Jenis Kelamin sebagai pemisahnya (color)\n",
        "sns.boxplot(x=\"Gender\", y=\"Credit_Limit\", data=df, palette=\"Set2\")"
      ],
      "metadata": {
        "id": "S5YG0MSeQpKh",
        "colab": {
          "base_uri": "https://localhost:8080/",
          "height": 296
        },
        "outputId": "86ff550c-2acc-4d04-a2b3-477935829413"
      },
      "execution_count": null,
      "outputs": [
        {
          "output_type": "execute_result",
          "data": {
            "text/plain": [
              "<AxesSubplot:xlabel='Gender', ylabel='Credit_Limit'>"
            ]
          },
          "metadata": {},
          "execution_count": 34
        },
        {
          "output_type": "display_data",
          "data": {
            "text/plain": [
              "<Figure size 432x288 with 1 Axes>"
            ],
            "image/png": "[encoded data removed]"
          },
          "metadata": {
            "needs_background": "light"
          }
        }
      ]
    },
    {
      "cell_type": "code",
      "source": [
        "# Buatlah visualisasi boxplot Credit Card Limit dengan Attrition Flag sebagai pemisahnya (color)\n",
        "sns.boxplot(data=df, x=\"Attrition_Flag\", y=\"Credit_Limit\", palette=\"Set1\")"
      ],
      "metadata": {
        "id": "T1b84fGPQ4OZ",
        "colab": {
          "base_uri": "https://localhost:8080/",
          "height": 297
        },
        "outputId": "69266db0-faf3-4b4a-ab6d-860c1d944ca8"
      },
      "execution_count": null,
      "outputs": [
        {
          "output_type": "execute_result",
          "data": {
            "text/plain": [
              "<AxesSubplot:xlabel='Attrition_Flag', ylabel='Credit_Limit'>"
            ]
          },
          "metadata": {},
          "execution_count": 36
        },
        {
          "output_type": "display_data",
          "data": {
            "text/plain": [
              "<Figure size 432x288 with 1 Axes>"
            ],
            "image/png": "[encoded data removed]"
          },
          "metadata": {
            "needs_background": "light"
          }
        }
      ]
    },
    {
      "cell_type": "code",
      "source": [
        "# Buatlah visualisasi boxplot Age dengan Attrition Flag sebagai pemisahnya (color)\n",
        "sns.boxplot(data=df, x=\"Attrition_Flag\", y=\"Customer_Age\", palette=\"Set2\")"
      ],
      "metadata": {
        "id": "9VGH1FdjQ_i4",
        "colab": {
          "base_uri": "https://localhost:8080/",
          "height": 299
        },
        "outputId": "5529850f-426f-4fe1-a5b5-dd1738f16af1"
      },
      "execution_count": null,
      "outputs": [
        {
          "output_type": "execute_result",
          "data": {
            "text/plain": [
              "<AxesSubplot:xlabel='Attrition_Flag', ylabel='Customer_Age'>"
            ]
          },
          "metadata": {},
          "execution_count": 37
        },
        {
          "output_type": "display_data",
          "data": {
            "text/plain": [
              "<Figure size 432x288 with 1 Axes>"
            ],
            "image/png": "[encoded data removed]"
          },
          "metadata": {
            "needs_background": "light"
          }
        }
      ]
    },
    {
      "cell_type": "code",
      "source": [
        "# Buatlah visualisasi countplot  Attrition Flag dengan jenis kelamin sebagai pemisahnya (color)\n",
        "sns.countplot(data=df, x=\"Attrition_Flag\", hue=\"Gender\", palette=\"Set1\")"
      ],
      "metadata": {
        "id": "lkh33qRARKup",
        "colab": {
          "base_uri": "https://localhost:8080/",
          "height": 297
        },
        "outputId": "04cf1ece-f183-4ff5-b64f-e546377c79d9"
      },
      "execution_count": null,
      "outputs": [
        {
          "output_type": "execute_result",
          "data": {
            "text/plain": [
              "<AxesSubplot:xlabel='Attrition_Flag', ylabel='count'>"
            ]
          },
          "metadata": {},
          "execution_count": 38
        },
        {
          "output_type": "display_data",
          "data": {
            "text/plain": [
              "<Figure size 432x288 with 1 Axes>"
            ],
            "image/png": "[encoded data removed]"
          },
          "metadata": {
            "needs_background": "light"
          }
        }
      ]
    },
    {
      "cell_type": "code",
      "source": [
        "# Buatlah visualisasi heatmap untuk Setiap variabel numerik yang ada"
      ],
      "metadata": {
        "id": "BmcfGNL1Rdb_"
      },
      "execution_count": null,
      "outputs": []
    },
    {
      "cell_type": "code",
      "source": [
        "# Mengambil subset data hanya untuk variabel numerik\n",
        "num_vars = df.select_dtypes(include=[\"int64\", \"float64\"])\n",
        "\n",
        "# Membuat visualisasi heatmap\n",
        "sns.heatmap(num_vars.corr(), annot=True, cmap=\"magma\")"
      ],
      "metadata": {
        "colab": {
          "base_uri": "https://localhost:8080/",
          "height": 287
        },
        "id": "Exp3bdwDpUsw",
        "outputId": "848f4516-1ea4-42e2-f84a-3744fbb91a27"
      },
      "execution_count": null,
      "outputs": [
        {
          "output_type": "execute_result",
          "data": {
            "text/plain": [
              "<AxesSubplot:>"
            ]
          },
          "metadata": {},
          "execution_count": 40
        },
        {
          "output_type": "display_data",
          "data": {
            "text/plain": [
              "<Figure size 432x288 with 2 Axes>"
            ],
            "image/png": "[encoded data removed]"
          },
          "metadata": {
            "needs_background": "light"
          }
        }
      ]
    },
    {
      "cell_type": "markdown",
      "source": [
        "## Algoritma Naive Bayes dan Preprocessing (pengenalan)"
      ],
      "metadata": {
        "id": "2W-0dXGMRm5g"
      }
    },
    {
      "cell_type": "code",
      "source": [
        "# sebelum membuat algoritma pertama tama buatlah dataset baru dengan ketentuan\n",
        "# mengambil dataset df\n",
        "# Menghapus kolom Unnamed: 0, CLIENTNUM, Umur, dan Limit Kartu Kredit (initinya yang berupa primary key dan bukan tipe kategori)\n",
        "# dataset dengan kolom yang sudah dihapus tadi kemudian disimpan di dataframe baru (df baru)\n"
      ],
      "metadata": {
        "id": "dr9RJsatR35G"
      },
      "execution_count": null,
      "outputs": []
    },
    {
      "cell_type": "code",
      "source": [
        "df_baru = df.drop(columns=['Unnamed: 0','CLIENTNUM','Customer_Age','Credit_Limit'])\n",
        "df_baru"
      ],
      "metadata": {
        "colab": {
          "base_uri": "https://localhost:8080/",
          "height": 677
        },
        "id": "zlOBwo5y4N9o",
        "outputId": "205ce579-6cde-4d5b-def2-9076915c7980"
      },
      "execution_count": 16,
      "outputs": [
        {
          "output_type": "execute_result",
          "data": {
            "text/plain": [
              "       Attrition_Flag Gender Education_Level Marital_Status Income_Category  \\\n",
              "0   Attrited Customer      M         Unknown         Single     $40K - $60K   \n",
              "1   Attrited Customer      M      Uneducated        Married     $60K - $80K   \n",
              "2   Attrited Customer      M         College         Single    $80K - $120K   \n",
              "3   Attrited Customer      M     High School        Unknown         $120K +   \n",
              "4   Attrited Customer      F        Graduate         Single  Less than $40K   \n",
              "5   Attrited Customer      M   Post-Graduate        Unknown    $80K - $120K   \n",
              "6   Attrited Customer      M     High School         Single     $60K - $80K   \n",
              "7   Attrited Customer      F        Graduate         Single  Less than $40K   \n",
              "8   Attrited Customer      F      Uneducated        Married         Unknown   \n",
              "9   Attrited Customer      M         Unknown         Single    $80K - $120K   \n",
              "10  Existing Customer      M       Doctorate         Single     $60K - $80K   \n",
              "11  Existing Customer      M      Uneducated        Married    $80K - $120K   \n",
              "12  Existing Customer      F     High School        Married         Unknown   \n",
              "13  Existing Customer      M      Uneducated         Single     $60K - $80K   \n",
              "14  Existing Customer      F      Uneducated         Single         Unknown   \n",
              "15  Existing Customer      F        Graduate        Married  Less than $40K   \n",
              "16  Existing Customer      F        Graduate        Married  Less than $40K   \n",
              "17  Existing Customer      F     High School         Single  Less than $40K   \n",
              "18  Existing Customer      M        Graduate         Single     $60K - $80K   \n",
              "19  Existing Customer      F   Post-Graduate        Married         Unknown   \n",
              "\n",
              "   Card_Category  \n",
              "0           Blue  \n",
              "1           Blue  \n",
              "2           Blue  \n",
              "3           Blue  \n",
              "4           Blue  \n",
              "5           Blue  \n",
              "6           Blue  \n",
              "7           Blue  \n",
              "8           Blue  \n",
              "9           Blue  \n",
              "10          Blue  \n",
              "11          Blue  \n",
              "12          Blue  \n",
              "13          Blue  \n",
              "14          Blue  \n",
              "15          Blue  \n",
              "16          Blue  \n",
              "17          Blue  \n",
              "18          Blue  \n",
              "19          Blue  "
            ],
            "text/html": [
              "\n",
              "  <div id=\"df-116bfab9-6cc3-48bf-b766-6de1972e692d\">\n",
              "    <div class=\"colab-df-container\">\n",
              "      <div>\n",
              "<style scoped>\n",
              "    .dataframe tbody tr th:only-of-type {\n",
              "        vertical-align: middle;\n",
              "    }\n",
              "\n",
              "    .dataframe tbody tr th {\n",
              "        vertical-align: top;\n",
              "    }\n",
              "\n",
              "    .dataframe thead th {\n",
              "        text-align: right;\n",
              "    }\n",
              "</style>\n",
              "<table border=\"1\" class=\"dataframe\">\n",
              "  <thead>\n",
              "    <tr style=\"text-align: right;\">\n",
              "      <th></th>\n",
              "      <th>Attrition_Flag</th>\n",
              "      <th>Gender</th>\n",
              "      <th>Education_Level</th>\n",
              "      <th>Marital_Status</th>\n",
              "      <th>Income_Category</th>\n",
              "      <th>Card_Category</th>\n",
              "    </tr>\n",
              "  </thead>\n",
              "  <tbody>\n",
              "    <tr>\n",
              "      <th>0</th>\n",
              "      <td>Attrited Customer</td>\n",
              "      <td>M</td>\n",
              "      <td>Unknown</td>\n",
              "      <td>Single</td>\n",
              "      <td>$40K - $60K</td>\n",
              "      <td>Blue</td>\n",
              "    </tr>\n",
              "    <tr>\n",
              "      <th>1</th>\n",
              "      <td>Attrited Customer</td>\n",
              "      <td>M</td>\n",
              "      <td>Uneducated</td>\n",
              "      <td>Married</td>\n",
              "      <td>$60K - $80K</td>\n",
              "      <td>Blue</td>\n",
              "    </tr>\n",
              "    <tr>\n",
              "      <th>2</th>\n",
              "      <td>Attrited Customer</td>\n",
              "      <td>M</td>\n",
              "      <td>College</td>\n",
              "      <td>Single</td>\n",
              "      <td>$80K - $120K</td>\n",
              "      <td>Blue</td>\n",
              "    </tr>\n",
              "    <tr>\n",
              "      <th>3</th>\n",
              "      <td>Attrited Customer</td>\n",
              "      <td>M</td>\n",
              "      <td>High School</td>\n",
              "      <td>Unknown</td>\n",
              "      <td>$120K +</td>\n",
              "      <td>Blue</td>\n",
              "    </tr>\n",
              "    <tr>\n",
              "      <th>4</th>\n",
              "      <td>Attrited Customer</td>\n",
              "      <td>F</td>\n",
              "      <td>Graduate</td>\n",
              "      <td>Single</td>\n",
              "      <td>Less than $40K</td>\n",
              "      <td>Blue</td>\n",
              "    </tr>\n",
              "    <tr>\n",
              "      <th>5</th>\n",
              "      <td>Attrited Customer</td>\n",
              "      <td>M</td>\n",
              "      <td>Post-Graduate</td>\n",
              "      <td>Unknown</td>\n",
              "      <td>$80K - $120K</td>\n",
              "      <td>Blue</td>\n",
              "    </tr>\n",
              "    <tr>\n",
              "      <th>6</th>\n",
              "      <td>Attrited Customer</td>\n",
              "      <td>M</td>\n",
              "      <td>High School</td>\n",
              "      <td>Single</td>\n",
              "      <td>$60K - $80K</td>\n",
              "      <td>Blue</td>\n",
              "    </tr>\n",
              "    <tr>\n",
              "      <th>7</th>\n",
              "      <td>Attrited Customer</td>\n",
              "      <td>F</td>\n",
              "      <td>Graduate</td>\n",
              "      <td>Single</td>\n",
              "      <td>Less than $40K</td>\n",
              "      <td>Blue</td>\n",
              "    </tr>\n",
              "    <tr>\n",
              "      <th>8</th>\n",
              "      <td>Attrited Customer</td>\n",
              "      <td>F</td>\n",
              "      <td>Uneducated</td>\n",
              "      <td>Married</td>\n",
              "      <td>Unknown</td>\n",
              "      <td>Blue</td>\n",
              "    </tr>\n",
              "    <tr>\n",
              "      <th>9</th>\n",
              "      <td>Attrited Customer</td>\n",
              "      <td>M</td>\n",
              "      <td>Unknown</td>\n",
              "      <td>Single</td>\n",
              "      <td>$80K - $120K</td>\n",
              "      <td>Blue</td>\n",
              "    </tr>\n",
              "    <tr>\n",
              "      <th>10</th>\n",
              "      <td>Existing Customer</td>\n",
              "      <td>M</td>\n",
              "      <td>Doctorate</td>\n",
              "      <td>Single</td>\n",
              "      <td>$60K - $80K</td>\n",
              "      <td>Blue</td>\n",
              "    </tr>\n",
              "    <tr>\n",
              "      <th>11</th>\n",
              "      <td>Existing Customer</td>\n",
              "      <td>M</td>\n",
              "      <td>Uneducated</td>\n",
              "      <td>Married</td>\n",
              "      <td>$80K - $120K</td>\n",
              "      <td>Blue</td>\n",
              "    </tr>\n",
              "    <tr>\n",
              "      <th>12</th>\n",
              "      <td>Existing Customer</td>\n",
              "      <td>F</td>\n",
              "      <td>High School</td>\n",
              "      <td>Married</td>\n",
              "      <td>Unknown</td>\n",
              "      <td>Blue</td>\n",
              "    </tr>\n",
              "    <tr>\n",
              "      <th>13</th>\n",
              "      <td>Existing Customer</td>\n",
              "      <td>M</td>\n",
              "      <td>Uneducated</td>\n",
              "      <td>Single</td>\n",
              "      <td>$60K - $80K</td>\n",
              "      <td>Blue</td>\n",
              "    </tr>\n",
              "    <tr>\n",
              "      <th>14</th>\n",
              "      <td>Existing Customer</td>\n",
              "      <td>F</td>\n",
              "      <td>Uneducated</td>\n",
              "      <td>Single</td>\n",
              "      <td>Unknown</td>\n",
              "      <td>Blue</td>\n",
              "    </tr>\n",
              "    <tr>\n",
              "      <th>15</th>\n",
              "      <td>Existing Customer</td>\n",
              "      <td>F</td>\n",
              "      <td>Graduate</td>\n",
              "      <td>Married</td>\n",
              "      <td>Less than $40K</td>\n",
              "      <td>Blue</td>\n",
              "    </tr>\n",
              "    <tr>\n",
              "      <th>16</th>\n",
              "      <td>Existing Customer</td>\n",
              "      <td>F</td>\n",
              "      <td>Graduate</td>\n",
              "      <td>Married</td>\n",
              "      <td>Less than $40K</td>\n",
              "      <td>Blue</td>\n",
              "    </tr>\n",
              "    <tr>\n",
              "      <th>17</th>\n",
              "      <td>Existing Customer</td>\n",
              "      <td>F</td>\n",
              "      <td>High School</td>\n",
              "      <td>Single</td>\n",
              "      <td>Less than $40K</td>\n",
              "      <td>Blue</td>\n",
              "    </tr>\n",
              "    <tr>\n",
              "      <th>18</th>\n",
              "      <td>Existing Customer</td>\n",
              "      <td>M</td>\n",
              "      <td>Graduate</td>\n",
              "      <td>Single</td>\n",
              "      <td>$60K - $80K</td>\n",
              "      <td>Blue</td>\n",
              "    </tr>\n",
              "    <tr>\n",
              "      <th>19</th>\n",
              "      <td>Existing Customer</td>\n",
              "      <td>F</td>\n",
              "      <td>Post-Graduate</td>\n",
              "      <td>Married</td>\n",
              "      <td>Unknown</td>\n",
              "      <td>Blue</td>\n",
              "    </tr>\n",
              "  </tbody>\n",
              "</table>\n",
              "</div>\n",
              "      <button class=\"colab-df-convert\" onclick=\"convertToInteractive('df-116bfab9-6cc3-48bf-b766-6de1972e692d')\"\n",
              "              title=\"Convert this dataframe to an interactive table.\"\n",
              "              style=\"display:none;\">\n",
              "        \n",
              "  <svg xmlns=\"http://www.w3.org/2000/svg\" height=\"24px\"viewBox=\"0 0 24 24\"\n",
              "       width=\"24px\">\n",
              "    <path d=\"M0 0h24v24H0V0z\" fill=\"none\"/>\n",
              "    <path d=\"M18.56 5.44l.94 2.06.94-2.06 2.06-.94-2.06-.94-.94-2.06-.94 2.06-2.06.94zm-11 1L8.5 8.5l.94-2.06 2.06-.94-2.06-.94L8.5 2.5l-.94 2.06-2.06.94zm10 10l.94 2.06.94-2.06 2.06-.94-2.06-.94-.94-2.06-.94 2.06-2.06.94z\"/><path d=\"M17.41 7.96l-1.37-1.37c-.4-.4-.92-.59-1.43-.59-.52 0-1.04.2-1.43.59L10.3 9.45l-7.72 7.72c-.78.78-.78 2.05 0 2.83L4 21.41c.39.39.9.59 1.41.59.51 0 1.02-.2 1.41-.59l7.78-7.78 2.81-2.81c.8-.78.8-2.07 0-2.86zM5.41 20L4 18.59l7.72-7.72 1.47 1.35L5.41 20z\"/>\n",
              "  </svg>\n",
              "      </button>\n",
              "      \n",
              "  <style>\n",
              "    .colab-df-container {\n",
              "      display:flex;\n",
              "      flex-wrap:wrap;\n",
              "      gap: 12px;\n",
              "    }\n",
              "\n",
              "    .colab-df-convert {\n",
              "      background-color: #E8F0FE;\n",
              "      border: none;\n",
              "      border-radius: 50%;\n",
              "      cursor: pointer;\n",
              "      display: none;\n",
              "      fill: #1967D2;\n",
              "      height: 32px;\n",
              "      padding: 0 0 0 0;\n",
              "      width: 32px;\n",
              "    }\n",
              "\n",
              "    .colab-df-convert:hover {\n",
              "      background-color: #E2EBFA;\n",
              "      box-shadow: 0px 1px 2px rgba(60, 64, 67, 0.3), 0px 1px 3px 1px rgba(60, 64, 67, 0.15);\n",
              "      fill: #174EA6;\n",
              "    }\n",
              "\n",
              "    [theme=dark] .colab-df-convert {\n",
              "      background-color: #3B4455;\n",
              "      fill: #D2E3FC;\n",
              "    }\n",
              "\n",
              "    [theme=dark] .colab-df-convert:hover {\n",
              "      background-color: #434B5C;\n",
              "      box-shadow: 0px 1px 3px 1px rgba(0, 0, 0, 0.15);\n",
              "      filter: drop-shadow(0px 1px 2px rgba(0, 0, 0, 0.3));\n",
              "      fill: #FFFFFF;\n",
              "    }\n",
              "  </style>\n",
              "\n",
              "      <script>\n",
              "        const buttonEl =\n",
              "          document.querySelector('#df-116bfab9-6cc3-48bf-b766-6de1972e692d button.colab-df-convert');\n",
              "        buttonEl.style.display =\n",
              "          google.colab.kernel.accessAllowed ? 'block' : 'none';\n",
              "\n",
              "        async function convertToInteractive(key) {\n",
              "          const element = document.querySelector('#df-116bfab9-6cc3-48bf-b766-6de1972e692d');\n",
              "          const dataTable =\n",
              "            await google.colab.kernel.invokeFunction('convertToInteractive',\n",
              "                                                     [key], {});\n",
              "          if (!dataTable) return;\n",
              "\n",
              "          const docLinkHtml = 'Like what you see? Visit the ' +\n",
              "            '<a target=\"_blank\" href=https://colab.research.google.com/notebooks/data_table.ipynb>data table notebook</a>'\n",
              "            + ' to learn more about interactive tables.';\n",
              "          element.innerHTML = '';\n",
              "          dataTable['output_type'] = 'display_data';\n",
              "          await google.colab.output.renderOutput(dataTable, element);\n",
              "          const docLink = document.createElement('div');\n",
              "          docLink.innerHTML = docLinkHtml;\n",
              "          element.appendChild(docLink);\n",
              "        }\n",
              "      </script>\n",
              "    </div>\n",
              "  </div>\n",
              "  "
            ]
          },
          "metadata": {},
          "execution_count": 16
        }
      ]
    },
    {
      "cell_type": "code",
      "source": [
        "# Buatlah sebuah fungsi naive bayes dengan ketentuan\n",
        "# Mengambil data dari dataframe yang telah diproses pada blok sebelumnya (diatas)\n",
        "# Nama fungsinya adalah naive_bayes\n",
        "# Mengambil 1 saja parameter yaitu sebuah list berisi kategori\n",
        "\n",
        "# Outputnya berupa prediksi Attrited Customer atau Existing Customer\n",
        "# Outputnya berupa tuple (_hasilnya, persentasenya berapa) contoh (Existing Customer, 0.004)\n",
        "\n",
        "# Tidak boleh menggunakan library manapun selain pandas dan numpy\n",
        "\n",
        "\n",
        "\n",
        "# contoh\n",
        "# def naive_bayes(prediksi:list)-> tuple :\n",
        "#   ........\n",
        "\n",
        "# jadi nanti saat saya coba masukan data \n",
        "# naive_bayes([\"F\",\t\"Uneducated\",\"Single\", \"Unknown\tBlue\"]) akan keluar tuple berupa (\"Attired Customer\", 0.002)\n",
        "\n",
        "def naive_bayes(prediksi: list) -> tuple :\n",
        "    attrited = df_baru[df_baru[\"Attrition_Flag\"]==\"Attrited Customer\"]\n",
        "    existing = df_baru[df_baru[\"Attrition_Flag\"]==\"Existing Customer\"]\n",
        "\n",
        "    # prior probability\n",
        "    attrited_prior = len(attrited) / len(df_baru)\n",
        "    existing_prior = len(existing) / len(df_baru)\n",
        "\n",
        "    # likelihood\n",
        "    for i in range(len(prediksi)):\n",
        "      attrited_subset = attrited[attrited.iloc[:,i]==prediksi[i]]\n",
        "      existing_subset = existing[existing.iloc[:,i]==prediksi[i]]\n",
        "\n",
        "      attrited_posterior = (len(attrited_subset) + 1) / (len(attrited) + len(df_baru.iloc[:,i].unique()))\n",
        "      existing_posterior = (len(existing_subset) + 1) / (len(existing) + len(df_baru.iloc[:,i].unique()))\n",
        "\n",
        "      if i == 0:\n",
        "          attrited_likelihood = attrited_posterior\n",
        "          existing_likelihood = existing_posterior\n",
        "\n",
        "      else:\n",
        "         attrited_likelihood *= attrited_posterior\n",
        "         existing_likelihood *= existing_posterior\n",
        "\n",
        "    # posterior probability\n",
        "    attrited_posterior = attrited_prior * attrited_likelihood\n",
        "    existing_posterior = existing_prior * existing_likelihood\n",
        "\n",
        "    # normalize posterior probability\n",
        "    persentasenya = existing_posterior / (attrited_posterior + existing_posterior)\n",
        "    hasilnya = \"Existing Customer\" if persentasenya >= 0.5 else \"Attrited Customer\"\n",
        "\n",
        "    return (hasilnya, persentasenya)"
      ],
      "metadata": {
        "id": "2EgdoQwHSasF"
      },
      "execution_count": 18,
      "outputs": []
    },
    {
      "cell_type": "code",
      "source": [
        "hasil = naive_bayes([\"F\", \"Uneducated\", \"Single\", \"Unknown\", \"Blue\"])\n",
        "print(hasil)"
      ],
      "metadata": {
        "colab": {
          "base_uri": "https://localhost:8080/"
        },
        "id": "abhKpSpp_N-w",
        "outputId": "df54d244-38a1-478c-fc02-3fe338815cd8"
      },
      "execution_count": 19,
      "outputs": [
        {
          "output_type": "stream",
          "name": "stdout",
          "text": [
            "('Attrited Customer', 0.25)\n"
          ]
        }
      ]
    }
  ]
}